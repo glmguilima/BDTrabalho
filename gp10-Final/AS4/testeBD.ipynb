{
 "cells": [
  {
   "cell_type": "code",
   "execution_count": 4,
   "outputs": [],
   "source": [
    "import pandas as pd"
   ],
   "metadata": {
    "collapsed": false,
    "ExecuteTime": {
     "end_time": "2023-12-04T17:48:38.410112700Z",
     "start_time": "2023-12-04T17:48:27.823707100Z"
    }
   },
   "id": "fcd18d60a6bb275e"
  },
  {
   "cell_type": "code",
   "execution_count": 5,
   "outputs": [],
   "source": [
    "df = pd.read_csv('pe2022.csv', encoding='ISO-8859-1',sep=';' )"
   ],
   "metadata": {
    "collapsed": false,
    "ExecuteTime": {
     "end_time": "2023-12-04T17:48:45.490874600Z",
     "start_time": "2023-12-04T17:48:44.739051300Z"
    }
   },
   "id": "789c91ee77529531"
  },
  {
   "cell_type": "code",
   "execution_count": 4,
   "outputs": [
    {
     "data": {
      "text/plain": "       DT_GERACAO HH_GERACAO  ANO_ELEICAO                NR_PROCESSO  \\\n0      10/11/2023   05:02:10         2022  0600493-44.2022.6.11.0000   \n1      10/11/2023   05:02:10         2022  0601321-56.2022.6.14.0000   \n2      10/11/2023   05:02:10         2022  0601428-84.2022.6.11.0000   \n3      10/11/2023   05:02:10         2022  0601681-78.2022.6.00.0000   \n4      10/11/2023   05:02:10         2022  0600038-08.2022.6.25.0027   \n...           ...        ...          ...                        ...   \n78750  10/11/2023   05:01:54         2022  0601382-51.2022.6.27.0000   \n78751  10/11/2023   05:01:54         2022  0601272-52.2022.6.27.0000   \n78752  10/11/2023   05:01:54         2022  0601274-22.2022.6.27.0000   \n78753  10/11/2023   05:01:54         2022  0600771-98.2022.6.27.0000   \n78754  10/11/2023   05:01:54         2022  0600757-17.2022.6.27.0000   \n\n      DT_AUTUACAO    DT_BAIXA SG_UF_TRIBUNAL_ORIGEM  NR_INSTANCIA_ORIGEM  \\\n0      11/09/2022  24/10/2022                    DF                   11   \n1      18/10/2022  22/11/2022                    PA                   14   \n2      15/02/2023  04/08/2023                    MT                   11   \n3      23/10/2022  26/11/2022                    DF                    0   \n4      20/11/2022  30/11/2022                    DF                   25   \n...           ...         ...                   ...                  ...   \n78750  13/09/2022  31/07/2023                    TO                   27   \n78751  13/09/2022  29/08/2023                    TO                   27   \n78752  13/09/2022  31/01/2023                    TO                   27   \n78753  14/08/2022  01/10/2022                    TO                   27   \n78754  14/08/2022  19/09/2022                    TO                   27   \n\n      SG_UF_TRIBUNAL  NR_INSTANCIA  ... CD_ASSUNTO_PRINCIPAL  \\\n0                 DF             3  ...              11667.0   \n1                 DF             3  ...              11593.0   \n2                 DF             3  ...              12046.0   \n3                 DF             3  ...              11593.0   \n4                 DF             3  ...              11634.0   \n...              ...           ...  ...                  ...   \n78750             TO             2  ...              11631.0   \n78751             TO             2  ...              11630.0   \n78752             TO             2  ...              11632.0   \n78753             TO             2  ...              11618.0   \n78754             TO             2  ...              11618.0   \n\n                                    DS_ASSUNTO_PRINCIPAL  ST_CONCLUSO  \\\n0      Propaganda Política - Propaganda Eleitoral - E...            0   \n1                                    Direito de Resposta            0   \n2                     Prestação de Contas - De Candidato            0   \n3                                    Direito de Resposta            0   \n4                        Cargo - Presidente da República            0   \n...                                                  ...          ...   \n78750                           Cargo - Deputado Federal            0   \n78751                          Cargo - Deputado Estadual            0   \n78752                                 Cargo - Governador            0   \n78753          Registro de Candidatura - RRC - Candidato            0   \n78754          Registro de Candidatura - RRC - Candidato            0   \n\n       ST_EM_PAUTA ST_SOBRESTADO  ST_PEDIDO_VISTA ST_CARGA_VISTA_MPE  \\\n0                0             0                0                  0   \n1                0             0                0                  0   \n2                0             0                0                  0   \n3                0             0                0                  0   \n4                0             0                0                  0   \n...            ...           ...              ...                ...   \n78750            0             0                0                  0   \n78751            0             0                0                  0   \n78752            0             0                0                  0   \n78753            0             0                0                  0   \n78754            0             0                0                  0   \n\n       ST_RECURSAL ST_REMESSA_SUPERIOR QT_DECISOES  \n0                1                   0           2  \n1                1                   0          11  \n2                1                   0           4  \n3                0                   0           1  \n4                1                   0           3  \n...            ...                 ...         ...  \n78750            0                   0           1  \n78751            0                   0           1  \n78752            0                   0           2  \n78753            0                   0           1  \n78754            0                   0           1  \n\n[78755 rows x 30 columns]",
      "text/html": "<div>\n<style scoped>\n    .dataframe tbody tr th:only-of-type {\n        vertical-align: middle;\n    }\n\n    .dataframe tbody tr th {\n        vertical-align: top;\n    }\n\n    .dataframe thead th {\n        text-align: right;\n    }\n</style>\n<table border=\"1\" class=\"dataframe\">\n  <thead>\n    <tr style=\"text-align: right;\">\n      <th></th>\n      <th>DT_GERACAO</th>\n      <th>HH_GERACAO</th>\n      <th>ANO_ELEICAO</th>\n      <th>NR_PROCESSO</th>\n      <th>DT_AUTUACAO</th>\n      <th>DT_BAIXA</th>\n      <th>SG_UF_TRIBUNAL_ORIGEM</th>\n      <th>NR_INSTANCIA_ORIGEM</th>\n      <th>SG_UF_TRIBUNAL</th>\n      <th>NR_INSTANCIA</th>\n      <th>...</th>\n      <th>CD_ASSUNTO_PRINCIPAL</th>\n      <th>DS_ASSUNTO_PRINCIPAL</th>\n      <th>ST_CONCLUSO</th>\n      <th>ST_EM_PAUTA</th>\n      <th>ST_SOBRESTADO</th>\n      <th>ST_PEDIDO_VISTA</th>\n      <th>ST_CARGA_VISTA_MPE</th>\n      <th>ST_RECURSAL</th>\n      <th>ST_REMESSA_SUPERIOR</th>\n      <th>QT_DECISOES</th>\n    </tr>\n  </thead>\n  <tbody>\n    <tr>\n      <th>0</th>\n      <td>10/11/2023</td>\n      <td>05:02:10</td>\n      <td>2022</td>\n      <td>0600493-44.2022.6.11.0000</td>\n      <td>11/09/2022</td>\n      <td>24/10/2022</td>\n      <td>DF</td>\n      <td>11</td>\n      <td>DF</td>\n      <td>3</td>\n      <td>...</td>\n      <td>11667.0</td>\n      <td>Propaganda Política - Propaganda Eleitoral - E...</td>\n      <td>0</td>\n      <td>0</td>\n      <td>0</td>\n      <td>0</td>\n      <td>0</td>\n      <td>1</td>\n      <td>0</td>\n      <td>2</td>\n    </tr>\n    <tr>\n      <th>1</th>\n      <td>10/11/2023</td>\n      <td>05:02:10</td>\n      <td>2022</td>\n      <td>0601321-56.2022.6.14.0000</td>\n      <td>18/10/2022</td>\n      <td>22/11/2022</td>\n      <td>PA</td>\n      <td>14</td>\n      <td>DF</td>\n      <td>3</td>\n      <td>...</td>\n      <td>11593.0</td>\n      <td>Direito de Resposta</td>\n      <td>0</td>\n      <td>0</td>\n      <td>0</td>\n      <td>0</td>\n      <td>0</td>\n      <td>1</td>\n      <td>0</td>\n      <td>11</td>\n    </tr>\n    <tr>\n      <th>2</th>\n      <td>10/11/2023</td>\n      <td>05:02:10</td>\n      <td>2022</td>\n      <td>0601428-84.2022.6.11.0000</td>\n      <td>15/02/2023</td>\n      <td>04/08/2023</td>\n      <td>MT</td>\n      <td>11</td>\n      <td>DF</td>\n      <td>3</td>\n      <td>...</td>\n      <td>12046.0</td>\n      <td>Prestação de Contas - De Candidato</td>\n      <td>0</td>\n      <td>0</td>\n      <td>0</td>\n      <td>0</td>\n      <td>0</td>\n      <td>1</td>\n      <td>0</td>\n      <td>4</td>\n    </tr>\n    <tr>\n      <th>3</th>\n      <td>10/11/2023</td>\n      <td>05:02:10</td>\n      <td>2022</td>\n      <td>0601681-78.2022.6.00.0000</td>\n      <td>23/10/2022</td>\n      <td>26/11/2022</td>\n      <td>DF</td>\n      <td>0</td>\n      <td>DF</td>\n      <td>3</td>\n      <td>...</td>\n      <td>11593.0</td>\n      <td>Direito de Resposta</td>\n      <td>0</td>\n      <td>0</td>\n      <td>0</td>\n      <td>0</td>\n      <td>0</td>\n      <td>0</td>\n      <td>0</td>\n      <td>1</td>\n    </tr>\n    <tr>\n      <th>4</th>\n      <td>10/11/2023</td>\n      <td>05:02:10</td>\n      <td>2022</td>\n      <td>0600038-08.2022.6.25.0027</td>\n      <td>20/11/2022</td>\n      <td>30/11/2022</td>\n      <td>DF</td>\n      <td>25</td>\n      <td>DF</td>\n      <td>3</td>\n      <td>...</td>\n      <td>11634.0</td>\n      <td>Cargo - Presidente da República</td>\n      <td>0</td>\n      <td>0</td>\n      <td>0</td>\n      <td>0</td>\n      <td>0</td>\n      <td>1</td>\n      <td>0</td>\n      <td>3</td>\n    </tr>\n    <tr>\n      <th>...</th>\n      <td>...</td>\n      <td>...</td>\n      <td>...</td>\n      <td>...</td>\n      <td>...</td>\n      <td>...</td>\n      <td>...</td>\n      <td>...</td>\n      <td>...</td>\n      <td>...</td>\n      <td>...</td>\n      <td>...</td>\n      <td>...</td>\n      <td>...</td>\n      <td>...</td>\n      <td>...</td>\n      <td>...</td>\n      <td>...</td>\n      <td>...</td>\n      <td>...</td>\n      <td>...</td>\n    </tr>\n    <tr>\n      <th>78750</th>\n      <td>10/11/2023</td>\n      <td>05:01:54</td>\n      <td>2022</td>\n      <td>0601382-51.2022.6.27.0000</td>\n      <td>13/09/2022</td>\n      <td>31/07/2023</td>\n      <td>TO</td>\n      <td>27</td>\n      <td>TO</td>\n      <td>2</td>\n      <td>...</td>\n      <td>11631.0</td>\n      <td>Cargo - Deputado Federal</td>\n      <td>0</td>\n      <td>0</td>\n      <td>0</td>\n      <td>0</td>\n      <td>0</td>\n      <td>0</td>\n      <td>0</td>\n      <td>1</td>\n    </tr>\n    <tr>\n      <th>78751</th>\n      <td>10/11/2023</td>\n      <td>05:01:54</td>\n      <td>2022</td>\n      <td>0601272-52.2022.6.27.0000</td>\n      <td>13/09/2022</td>\n      <td>29/08/2023</td>\n      <td>TO</td>\n      <td>27</td>\n      <td>TO</td>\n      <td>2</td>\n      <td>...</td>\n      <td>11630.0</td>\n      <td>Cargo - Deputado Estadual</td>\n      <td>0</td>\n      <td>0</td>\n      <td>0</td>\n      <td>0</td>\n      <td>0</td>\n      <td>0</td>\n      <td>0</td>\n      <td>1</td>\n    </tr>\n    <tr>\n      <th>78752</th>\n      <td>10/11/2023</td>\n      <td>05:01:54</td>\n      <td>2022</td>\n      <td>0601274-22.2022.6.27.0000</td>\n      <td>13/09/2022</td>\n      <td>31/01/2023</td>\n      <td>TO</td>\n      <td>27</td>\n      <td>TO</td>\n      <td>2</td>\n      <td>...</td>\n      <td>11632.0</td>\n      <td>Cargo - Governador</td>\n      <td>0</td>\n      <td>0</td>\n      <td>0</td>\n      <td>0</td>\n      <td>0</td>\n      <td>0</td>\n      <td>0</td>\n      <td>2</td>\n    </tr>\n    <tr>\n      <th>78753</th>\n      <td>10/11/2023</td>\n      <td>05:01:54</td>\n      <td>2022</td>\n      <td>0600771-98.2022.6.27.0000</td>\n      <td>14/08/2022</td>\n      <td>01/10/2022</td>\n      <td>TO</td>\n      <td>27</td>\n      <td>TO</td>\n      <td>2</td>\n      <td>...</td>\n      <td>11618.0</td>\n      <td>Registro de Candidatura - RRC - Candidato</td>\n      <td>0</td>\n      <td>0</td>\n      <td>0</td>\n      <td>0</td>\n      <td>0</td>\n      <td>0</td>\n      <td>0</td>\n      <td>1</td>\n    </tr>\n    <tr>\n      <th>78754</th>\n      <td>10/11/2023</td>\n      <td>05:01:54</td>\n      <td>2022</td>\n      <td>0600757-17.2022.6.27.0000</td>\n      <td>14/08/2022</td>\n      <td>19/09/2022</td>\n      <td>TO</td>\n      <td>27</td>\n      <td>TO</td>\n      <td>2</td>\n      <td>...</td>\n      <td>11618.0</td>\n      <td>Registro de Candidatura - RRC - Candidato</td>\n      <td>0</td>\n      <td>0</td>\n      <td>0</td>\n      <td>0</td>\n      <td>0</td>\n      <td>0</td>\n      <td>0</td>\n      <td>1</td>\n    </tr>\n  </tbody>\n</table>\n<p>78755 rows × 30 columns</p>\n</div>"
     },
     "execution_count": 4,
     "metadata": {},
     "output_type": "execute_result"
    }
   ],
   "source": [
    "df\n"
   ],
   "metadata": {
    "collapsed": false,
    "ExecuteTime": {
     "end_time": "2023-12-04T15:49:10.737145100Z",
     "start_time": "2023-12-04T15:49:10.564127800Z"
    }
   },
   "id": "82c38a486edf3c8"
  },
  {
   "cell_type": "code",
   "execution_count": 6,
   "outputs": [
    {
     "data": {
      "text/plain": "DT_GERACAO                object\nHH_GERACAO                object\nANO_ELEICAO                int64\nNR_PROCESSO               object\nDT_AUTUACAO               object\nDT_BAIXA                  object\nSG_UF_TRIBUNAL_ORIGEM     object\nNR_INSTANCIA_ORIGEM        int64\nSG_UF_TRIBUNAL            object\nNR_INSTANCIA               int64\nDT_DISTRIBUICAO           object\nCD_TIPO_DISTRIBUICAO     float64\nDS_TIPO_DISTRIBUICAO     float64\nCD_RELATOR                 int64\nNM_RELATOR                object\nCD_TIPO_CARGO_RELATOR      int64\nDS_TIPO_CARGO_RELATOR     object\nCD_CLASSE                  int64\nSG_CLASSE                 object\nDS_CLASSE                 object\nCD_ASSUNTO_PRINCIPAL     float64\nDS_ASSUNTO_PRINCIPAL      object\nST_CONCLUSO                int64\nST_EM_PAUTA                int64\nST_SOBRESTADO              int64\nST_PEDIDO_VISTA            int64\nST_CARGA_VISTA_MPE         int64\nST_RECURSAL                int64\nST_REMESSA_SUPERIOR        int64\nQT_DECISOES                int64\ndtype: object"
     },
     "execution_count": 6,
     "metadata": {},
     "output_type": "execute_result"
    }
   ],
   "source": [
    "df.dtypes\n"
   ],
   "metadata": {
    "collapsed": false,
    "ExecuteTime": {
     "end_time": "2023-12-04T17:48:50.017966100Z",
     "start_time": "2023-12-04T17:48:49.970048800Z"
    }
   },
   "id": "7b5bccb276e6620a"
  },
  {
   "cell_type": "code",
   "execution_count": 7,
   "outputs": [],
   "source": [
    "df['DT_GERACAO'] = pd.to_datetime(df['DT_GERACAO'], format='%d/%m/%Y', errors='coerce')\n",
    "df['DT_BAIXA'] = pd.to_datetime(df['DT_BAIXA'], format='%d/%m/%Y', errors='coerce')\n",
    "df['DT_DISTRIBUICAO'] = pd.to_datetime(df['DT_DISTRIBUICAO'], format='%d/%m/%Y', errors='coerce')\n",
    "df['DT_AUTUACAO'] = pd.to_datetime(df['DT_AUTUACAO'], format='%d/%m/%Y', errors='coerce')\n",
    "\n",
    "\n"
   ],
   "metadata": {
    "collapsed": false,
    "ExecuteTime": {
     "end_time": "2023-12-04T17:48:55.754015300Z",
     "start_time": "2023-12-04T17:48:55.610827200Z"
    }
   },
   "id": "a1911d11438ead5"
  },
  {
   "cell_type": "code",
   "execution_count": 7,
   "outputs": [
    {
     "data": {
      "text/plain": "DT_GERACAO               datetime64[ns]\nHH_GERACAO                       object\nANO_ELEICAO                       int64\nNR_PROCESSO                      object\nDT_AUTUACAO              datetime64[ns]\nDT_BAIXA                 datetime64[ns]\nSG_UF_TRIBUNAL_ORIGEM            object\nNR_INSTANCIA_ORIGEM               int64\nSG_UF_TRIBUNAL                   object\nNR_INSTANCIA                      int64\nDT_DISTRIBUICAO          datetime64[ns]\nCD_TIPO_DISTRIBUICAO            float64\nDS_TIPO_DISTRIBUICAO            float64\nCD_RELATOR                        int64\nNM_RELATOR                       object\nCD_TIPO_CARGO_RELATOR             int64\nDS_TIPO_CARGO_RELATOR            object\nCD_CLASSE                         int64\nSG_CLASSE                        object\nDS_CLASSE                        object\nCD_ASSUNTO_PRINCIPAL            float64\nDS_ASSUNTO_PRINCIPAL             object\nST_CONCLUSO                       int64\nST_EM_PAUTA                       int64\nST_SOBRESTADO                     int64\nST_PEDIDO_VISTA                   int64\nST_CARGA_VISTA_MPE                int64\nST_RECURSAL                       int64\nST_REMESSA_SUPERIOR               int64\nQT_DECISOES                       int64\ndtype: object"
     },
     "execution_count": 7,
     "metadata": {},
     "output_type": "execute_result"
    }
   ],
   "source": [
    "\n",
    "df.dtypes"
   ],
   "metadata": {
    "collapsed": false,
    "ExecuteTime": {
     "end_time": "2023-12-04T15:52:15.163514200Z",
     "start_time": "2023-12-04T15:52:15.081459500Z"
    }
   },
   "id": "90451e493de53041"
  },
  {
   "cell_type": "code",
   "execution_count": 8,
   "outputs": [],
   "source": [
    "df.to_csv('pe2022_2', index = False)\n"
   ],
   "metadata": {
    "collapsed": false,
    "ExecuteTime": {
     "end_time": "2023-12-04T17:51:14.307147400Z",
     "start_time": "2023-12-04T17:51:11.923545300Z"
    }
   },
   "id": "6676d15288b7482c"
  },
  {
   "cell_type": "code",
   "execution_count": 12,
   "outputs": [
    {
     "data": {
      "text/plain": "      DT_GERACAO HH_GERACAO  ANO_ELEICAO                NR_PROCESSO  \\\n0     2023-11-10   05:02:10         2022  0600493-44.2022.6.11.0000   \n1     2023-11-10   05:02:10         2022  0601321-56.2022.6.14.0000   \n2     2023-11-10   05:02:10         2022  0601428-84.2022.6.11.0000   \n3     2023-11-10   05:02:10         2022  0601681-78.2022.6.00.0000   \n4     2023-11-10   05:02:10         2022  0600038-08.2022.6.25.0027   \n...          ...        ...          ...                        ...   \n78750 2023-11-10   05:01:54         2022  0601382-51.2022.6.27.0000   \n78751 2023-11-10   05:01:54         2022  0601272-52.2022.6.27.0000   \n78752 2023-11-10   05:01:54         2022  0601274-22.2022.6.27.0000   \n78753 2023-11-10   05:01:54         2022  0600771-98.2022.6.27.0000   \n78754 2023-11-10   05:01:54         2022  0600757-17.2022.6.27.0000   \n\n      DT_AUTUACAO   DT_BAIXA SG_UF_TRIBUNAL_ORIGEM  NR_INSTANCIA_ORIGEM  \\\n0      2022-09-11 2022-10-24                    DF                   11   \n1      2022-10-18 2022-11-22                    PA                   14   \n2      2023-02-15 2023-08-04                    MT                   11   \n3      2022-10-23 2022-11-26                    DF                    0   \n4      2022-11-20 2022-11-30                    DF                   25   \n...           ...        ...                   ...                  ...   \n78750  2022-09-13 2023-07-31                    TO                   27   \n78751  2022-09-13 2023-08-29                    TO                   27   \n78752  2022-09-13 2023-01-31                    TO                   27   \n78753  2022-08-14 2022-10-01                    TO                   27   \n78754  2022-08-14 2022-09-19                    TO                   27   \n\n      SG_UF_TRIBUNAL  NR_INSTANCIA  ... CD_ASSUNTO_PRINCIPAL  \\\n0                 DF             3  ...              11667.0   \n1                 DF             3  ...              11593.0   \n2                 DF             3  ...              12046.0   \n3                 DF             3  ...              11593.0   \n4                 DF             3  ...              11634.0   \n...              ...           ...  ...                  ...   \n78750             TO             2  ...              11631.0   \n78751             TO             2  ...              11630.0   \n78752             TO             2  ...              11632.0   \n78753             TO             2  ...              11618.0   \n78754             TO             2  ...              11618.0   \n\n                                    DS_ASSUNTO_PRINCIPAL  ST_CONCLUSO  \\\n0      Propaganda Política - Propaganda Eleitoral - E...            0   \n1                                    Direito de Resposta            0   \n2                     Prestação de Contas - De Candidato            0   \n3                                    Direito de Resposta            0   \n4                        Cargo - Presidente da República            0   \n...                                                  ...          ...   \n78750                           Cargo - Deputado Federal            0   \n78751                          Cargo - Deputado Estadual            0   \n78752                                 Cargo - Governador            0   \n78753          Registro de Candidatura - RRC - Candidato            0   \n78754          Registro de Candidatura - RRC - Candidato            0   \n\n       ST_EM_PAUTA ST_SOBRESTADO  ST_PEDIDO_VISTA ST_CARGA_VISTA_MPE  \\\n0                0             0                0                  0   \n1                0             0                0                  0   \n2                0             0                0                  0   \n3                0             0                0                  0   \n4                0             0                0                  0   \n...            ...           ...              ...                ...   \n78750            0             0                0                  0   \n78751            0             0                0                  0   \n78752            0             0                0                  0   \n78753            0             0                0                  0   \n78754            0             0                0                  0   \n\n       ST_RECURSAL ST_REMESSA_SUPERIOR QT_DECISOES  \n0                1                   0           2  \n1                1                   0          11  \n2                1                   0           4  \n3                0                   0           1  \n4                1                   0           3  \n...            ...                 ...         ...  \n78750            0                   0           1  \n78751            0                   0           1  \n78752            0                   0           2  \n78753            0                   0           1  \n78754            0                   0           1  \n\n[78755 rows x 30 columns]",
      "text/html": "<div>\n<style scoped>\n    .dataframe tbody tr th:only-of-type {\n        vertical-align: middle;\n    }\n\n    .dataframe tbody tr th {\n        vertical-align: top;\n    }\n\n    .dataframe thead th {\n        text-align: right;\n    }\n</style>\n<table border=\"1\" class=\"dataframe\">\n  <thead>\n    <tr style=\"text-align: right;\">\n      <th></th>\n      <th>DT_GERACAO</th>\n      <th>HH_GERACAO</th>\n      <th>ANO_ELEICAO</th>\n      <th>NR_PROCESSO</th>\n      <th>DT_AUTUACAO</th>\n      <th>DT_BAIXA</th>\n      <th>SG_UF_TRIBUNAL_ORIGEM</th>\n      <th>NR_INSTANCIA_ORIGEM</th>\n      <th>SG_UF_TRIBUNAL</th>\n      <th>NR_INSTANCIA</th>\n      <th>...</th>\n      <th>CD_ASSUNTO_PRINCIPAL</th>\n      <th>DS_ASSUNTO_PRINCIPAL</th>\n      <th>ST_CONCLUSO</th>\n      <th>ST_EM_PAUTA</th>\n      <th>ST_SOBRESTADO</th>\n      <th>ST_PEDIDO_VISTA</th>\n      <th>ST_CARGA_VISTA_MPE</th>\n      <th>ST_RECURSAL</th>\n      <th>ST_REMESSA_SUPERIOR</th>\n      <th>QT_DECISOES</th>\n    </tr>\n  </thead>\n  <tbody>\n    <tr>\n      <th>0</th>\n      <td>2023-11-10</td>\n      <td>05:02:10</td>\n      <td>2022</td>\n      <td>0600493-44.2022.6.11.0000</td>\n      <td>2022-09-11</td>\n      <td>2022-10-24</td>\n      <td>DF</td>\n      <td>11</td>\n      <td>DF</td>\n      <td>3</td>\n      <td>...</td>\n      <td>11667.0</td>\n      <td>Propaganda Política - Propaganda Eleitoral - E...</td>\n      <td>0</td>\n      <td>0</td>\n      <td>0</td>\n      <td>0</td>\n      <td>0</td>\n      <td>1</td>\n      <td>0</td>\n      <td>2</td>\n    </tr>\n    <tr>\n      <th>1</th>\n      <td>2023-11-10</td>\n      <td>05:02:10</td>\n      <td>2022</td>\n      <td>0601321-56.2022.6.14.0000</td>\n      <td>2022-10-18</td>\n      <td>2022-11-22</td>\n      <td>PA</td>\n      <td>14</td>\n      <td>DF</td>\n      <td>3</td>\n      <td>...</td>\n      <td>11593.0</td>\n      <td>Direito de Resposta</td>\n      <td>0</td>\n      <td>0</td>\n      <td>0</td>\n      <td>0</td>\n      <td>0</td>\n      <td>1</td>\n      <td>0</td>\n      <td>11</td>\n    </tr>\n    <tr>\n      <th>2</th>\n      <td>2023-11-10</td>\n      <td>05:02:10</td>\n      <td>2022</td>\n      <td>0601428-84.2022.6.11.0000</td>\n      <td>2023-02-15</td>\n      <td>2023-08-04</td>\n      <td>MT</td>\n      <td>11</td>\n      <td>DF</td>\n      <td>3</td>\n      <td>...</td>\n      <td>12046.0</td>\n      <td>Prestação de Contas - De Candidato</td>\n      <td>0</td>\n      <td>0</td>\n      <td>0</td>\n      <td>0</td>\n      <td>0</td>\n      <td>1</td>\n      <td>0</td>\n      <td>4</td>\n    </tr>\n    <tr>\n      <th>3</th>\n      <td>2023-11-10</td>\n      <td>05:02:10</td>\n      <td>2022</td>\n      <td>0601681-78.2022.6.00.0000</td>\n      <td>2022-10-23</td>\n      <td>2022-11-26</td>\n      <td>DF</td>\n      <td>0</td>\n      <td>DF</td>\n      <td>3</td>\n      <td>...</td>\n      <td>11593.0</td>\n      <td>Direito de Resposta</td>\n      <td>0</td>\n      <td>0</td>\n      <td>0</td>\n      <td>0</td>\n      <td>0</td>\n      <td>0</td>\n      <td>0</td>\n      <td>1</td>\n    </tr>\n    <tr>\n      <th>4</th>\n      <td>2023-11-10</td>\n      <td>05:02:10</td>\n      <td>2022</td>\n      <td>0600038-08.2022.6.25.0027</td>\n      <td>2022-11-20</td>\n      <td>2022-11-30</td>\n      <td>DF</td>\n      <td>25</td>\n      <td>DF</td>\n      <td>3</td>\n      <td>...</td>\n      <td>11634.0</td>\n      <td>Cargo - Presidente da República</td>\n      <td>0</td>\n      <td>0</td>\n      <td>0</td>\n      <td>0</td>\n      <td>0</td>\n      <td>1</td>\n      <td>0</td>\n      <td>3</td>\n    </tr>\n    <tr>\n      <th>...</th>\n      <td>...</td>\n      <td>...</td>\n      <td>...</td>\n      <td>...</td>\n      <td>...</td>\n      <td>...</td>\n      <td>...</td>\n      <td>...</td>\n      <td>...</td>\n      <td>...</td>\n      <td>...</td>\n      <td>...</td>\n      <td>...</td>\n      <td>...</td>\n      <td>...</td>\n      <td>...</td>\n      <td>...</td>\n      <td>...</td>\n      <td>...</td>\n      <td>...</td>\n      <td>...</td>\n    </tr>\n    <tr>\n      <th>78750</th>\n      <td>2023-11-10</td>\n      <td>05:01:54</td>\n      <td>2022</td>\n      <td>0601382-51.2022.6.27.0000</td>\n      <td>2022-09-13</td>\n      <td>2023-07-31</td>\n      <td>TO</td>\n      <td>27</td>\n      <td>TO</td>\n      <td>2</td>\n      <td>...</td>\n      <td>11631.0</td>\n      <td>Cargo - Deputado Federal</td>\n      <td>0</td>\n      <td>0</td>\n      <td>0</td>\n      <td>0</td>\n      <td>0</td>\n      <td>0</td>\n      <td>0</td>\n      <td>1</td>\n    </tr>\n    <tr>\n      <th>78751</th>\n      <td>2023-11-10</td>\n      <td>05:01:54</td>\n      <td>2022</td>\n      <td>0601272-52.2022.6.27.0000</td>\n      <td>2022-09-13</td>\n      <td>2023-08-29</td>\n      <td>TO</td>\n      <td>27</td>\n      <td>TO</td>\n      <td>2</td>\n      <td>...</td>\n      <td>11630.0</td>\n      <td>Cargo - Deputado Estadual</td>\n      <td>0</td>\n      <td>0</td>\n      <td>0</td>\n      <td>0</td>\n      <td>0</td>\n      <td>0</td>\n      <td>0</td>\n      <td>1</td>\n    </tr>\n    <tr>\n      <th>78752</th>\n      <td>2023-11-10</td>\n      <td>05:01:54</td>\n      <td>2022</td>\n      <td>0601274-22.2022.6.27.0000</td>\n      <td>2022-09-13</td>\n      <td>2023-01-31</td>\n      <td>TO</td>\n      <td>27</td>\n      <td>TO</td>\n      <td>2</td>\n      <td>...</td>\n      <td>11632.0</td>\n      <td>Cargo - Governador</td>\n      <td>0</td>\n      <td>0</td>\n      <td>0</td>\n      <td>0</td>\n      <td>0</td>\n      <td>0</td>\n      <td>0</td>\n      <td>2</td>\n    </tr>\n    <tr>\n      <th>78753</th>\n      <td>2023-11-10</td>\n      <td>05:01:54</td>\n      <td>2022</td>\n      <td>0600771-98.2022.6.27.0000</td>\n      <td>2022-08-14</td>\n      <td>2022-10-01</td>\n      <td>TO</td>\n      <td>27</td>\n      <td>TO</td>\n      <td>2</td>\n      <td>...</td>\n      <td>11618.0</td>\n      <td>Registro de Candidatura - RRC - Candidato</td>\n      <td>0</td>\n      <td>0</td>\n      <td>0</td>\n      <td>0</td>\n      <td>0</td>\n      <td>0</td>\n      <td>0</td>\n      <td>1</td>\n    </tr>\n    <tr>\n      <th>78754</th>\n      <td>2023-11-10</td>\n      <td>05:01:54</td>\n      <td>2022</td>\n      <td>0600757-17.2022.6.27.0000</td>\n      <td>2022-08-14</td>\n      <td>2022-09-19</td>\n      <td>TO</td>\n      <td>27</td>\n      <td>TO</td>\n      <td>2</td>\n      <td>...</td>\n      <td>11618.0</td>\n      <td>Registro de Candidatura - RRC - Candidato</td>\n      <td>0</td>\n      <td>0</td>\n      <td>0</td>\n      <td>0</td>\n      <td>0</td>\n      <td>0</td>\n      <td>0</td>\n      <td>1</td>\n    </tr>\n  </tbody>\n</table>\n<p>78755 rows × 30 columns</p>\n</div>"
     },
     "execution_count": 12,
     "metadata": {},
     "output_type": "execute_result"
    }
   ],
   "source": [
    "df\n",
    "\n"
   ],
   "metadata": {
    "collapsed": false,
    "ExecuteTime": {
     "end_time": "2023-12-04T18:22:25.030691900Z",
     "start_time": "2023-12-04T18:22:24.889655500Z"
    }
   },
   "id": "5f682a87953491f5"
  },
  {
   "cell_type": "code",
   "execution_count": 13,
   "outputs": [
    {
     "data": {
      "text/plain": "Index(['DT_GERACAO', 'HH_GERACAO', 'ANO_ELEICAO', 'NR_PROCESSO', 'DT_AUTUACAO',\n       'DT_BAIXA', 'SG_UF_TRIBUNAL_ORIGEM', 'NR_INSTANCIA_ORIGEM',\n       'SG_UF_TRIBUNAL', 'NR_INSTANCIA', 'DT_DISTRIBUICAO',\n       'CD_TIPO_DISTRIBUICAO', 'DS_TIPO_DISTRIBUICAO', 'CD_RELATOR',\n       'NM_RELATOR', 'CD_TIPO_CARGO_RELATOR', 'DS_TIPO_CARGO_RELATOR',\n       'CD_CLASSE', 'SG_CLASSE', 'DS_CLASSE', 'CD_ASSUNTO_PRINCIPAL',\n       'DS_ASSUNTO_PRINCIPAL', 'ST_CONCLUSO', 'ST_EM_PAUTA', 'ST_SOBRESTADO',\n       'ST_PEDIDO_VISTA', 'ST_CARGA_VISTA_MPE', 'ST_RECURSAL',\n       'ST_REMESSA_SUPERIOR', 'QT_DECISOES'],\n      dtype='object')"
     },
     "execution_count": 13,
     "metadata": {},
     "output_type": "execute_result"
    }
   ],
   "source": [
    "df.columns\n"
   ],
   "metadata": {
    "collapsed": false,
    "ExecuteTime": {
     "end_time": "2023-12-04T18:29:32.197824800Z",
     "start_time": "2023-12-04T18:29:32.070079800Z"
    }
   },
   "id": "2a2dbd89d0c7c688"
  },
  {
   "cell_type": "code",
   "execution_count": 15,
   "outputs": [],
   "source": [
    "recurso = pd.read_csv('recursos_eleitorais_2022.csv', encoding='ISO-8859-1',sep=';' )"
   ],
   "metadata": {
    "collapsed": false,
    "ExecuteTime": {
     "end_time": "2023-12-04T18:49:44.940273800Z",
     "start_time": "2023-12-04T18:49:44.802145Z"
    }
   },
   "id": "60a8d8309c401caf"
  },
  {
   "cell_type": "code",
   "execution_count": 16,
   "outputs": [
    {
     "data": {
      "text/plain": "       DT_GERACAO HH_GERACAO  ANO_ELEICAO DS_IDENTIFICACAO_RECURSO  \\\n0      10/11/2023   05:04:58         2022                 Processo   \n1      10/11/2023   05:04:58         2022                 Processo   \n2      10/11/2023   05:04:58         2022                 Processo   \n3      10/11/2023   05:04:58         2022                 Processo   \n4      10/11/2023   05:04:58         2022                 Processo   \n...           ...        ...          ...                      ...   \n14633  10/11/2023   05:03:39         2022                 Processo   \n14634  10/11/2023   05:03:39         2022                 Processo   \n14635  10/11/2023   05:03:39         2022                 Processo   \n14636  10/11/2023   05:03:39         2022                 Processo   \n14637  10/11/2023   05:03:39         2022                 Processo   \n\n       NR_RECURSO DT_AUTUACAO    DT_BAIXA         NR_PROCESSO_ORIGEM  \\\n0       157983883  06/08/2022  10/10/2022  0600689-20.2022.6.00.0000   \n1       157983856  06/08/2022  10/10/2022  0600689-20.2022.6.00.0000   \n2       157980480  06/08/2022  10/10/2022  0600689-20.2022.6.00.0000   \n3       157980681  06/08/2022  10/10/2022  0600689-20.2022.6.00.0000   \n4       157980680  06/08/2022  10/10/2022  0600689-20.2022.6.00.0000   \n...           ...         ...         ...                        ...   \n14633     9752761  12/08/2022  04/10/2022  0600534-64.2022.6.27.0000   \n14634     9752762  12/08/2022  04/10/2022  0600534-64.2022.6.27.0000   \n14635     9760627  26/08/2022  21/09/2022  0600951-17.2022.6.27.0000   \n14636     9752391  12/08/2022  20/09/2022  0600467-02.2022.6.27.0000   \n14637     9752392  12/08/2022  20/09/2022  0600467-02.2022.6.27.0000   \n\n      SG_UF_TRIBUNAL_ORIGEM  NR_INSTANCIA_ORIGEM  ... SG_CLASSE  \\\n0                        DF                    0  ...     RCand   \n1                        DF                    0  ...     RCand   \n2                        DF                    0  ...     RCand   \n3                        DF                    0  ...     RCand   \n4                        DF                    0  ...     RCand   \n...                     ...                  ...  ...       ...   \n14633                    TO                   27  ...     RCand   \n14634                    TO                   27  ...     RCand   \n14635                    TO                   27  ...     RCand   \n14636                    TO                   27  ...     RCand   \n14637                    TO                   27  ...     RCand   \n\n                     DS_CLASSE CD_ASSUNTO_PRINCIPAL  \\\n0      REGISTRO DE CANDIDATURA              12044.0   \n1      REGISTRO DE CANDIDATURA              12044.0   \n2      REGISTRO DE CANDIDATURA              12044.0   \n3      REGISTRO DE CANDIDATURA              12044.0   \n4      REGISTRO DE CANDIDATURA              12044.0   \n...                        ...                  ...   \n14633  REGISTRO DE CANDIDATURA              11618.0   \n14634  REGISTRO DE CANDIDATURA              11618.0   \n14635  REGISTRO DE CANDIDATURA              11621.0   \n14636  REGISTRO DE CANDIDATURA              11618.0   \n14637  REGISTRO DE CANDIDATURA              11618.0   \n\n                                    DS_ASSUNTO_PRINCIPAL  \\\n0       Registro de Candidatura - DRAP Partido/Coligação   \n1       Registro de Candidatura - DRAP Partido/Coligação   \n2       Registro de Candidatura - DRAP Partido/Coligação   \n3       Registro de Candidatura - DRAP Partido/Coligação   \n4       Registro de Candidatura - DRAP Partido/Coligação   \n...                                                  ...   \n14633          Registro de Candidatura - RRC - Candidato   \n14634          Registro de Candidatura - RRC - Candidato   \n14635  Registro de Candidatura - Substituição de Cand...   \n14636          Registro de Candidatura - RRC - Candidato   \n14637          Registro de Candidatura - RRC - Candidato   \n\n              DS_TIPO_RECURSO  DS_NATUREZA_RECURSO ST_CONCLUSO  QT_DECISOES  \\\n0      Embargos de Declaração              Interno           0            4   \n1                  Impugnação              Interno           0            4   \n2                  Impugnação              Interno           0            4   \n3                  Impugnação              Interno           0            4   \n4                  Impugnação              Interno           0            4   \n...                       ...                  ...         ...          ...   \n14633              Impugnação              Interno           0            3   \n14634              Impugnação              Interno           0            3   \n14635   Agravo de Instrumento              Externo           0            1   \n14636              Impugnação              Interno           0            2   \n14637              Impugnação              Interno           0            2   \n\n      DT_ULTIMA_DECISAO  DS_ULTIMA_DECISAO  \n0             15-SEP-22                NaN  \n1             15-SEP-22                NaN  \n2             15-SEP-22                NaN  \n3             15-SEP-22                NaN  \n4             15-SEP-22                NaN  \n...                 ...                ...  \n14633         06-SEP-22                NaN  \n14634         06-SEP-22                NaN  \n14635         03-SEP-22                NaN  \n14636         05-SEP-22                NaN  \n14637         05-SEP-22                NaN  \n\n[14638 rows x 30 columns]",
      "text/html": "<div>\n<style scoped>\n    .dataframe tbody tr th:only-of-type {\n        vertical-align: middle;\n    }\n\n    .dataframe tbody tr th {\n        vertical-align: top;\n    }\n\n    .dataframe thead th {\n        text-align: right;\n    }\n</style>\n<table border=\"1\" class=\"dataframe\">\n  <thead>\n    <tr style=\"text-align: right;\">\n      <th></th>\n      <th>DT_GERACAO</th>\n      <th>HH_GERACAO</th>\n      <th>ANO_ELEICAO</th>\n      <th>DS_IDENTIFICACAO_RECURSO</th>\n      <th>NR_RECURSO</th>\n      <th>DT_AUTUACAO</th>\n      <th>DT_BAIXA</th>\n      <th>NR_PROCESSO_ORIGEM</th>\n      <th>SG_UF_TRIBUNAL_ORIGEM</th>\n      <th>NR_INSTANCIA_ORIGEM</th>\n      <th>...</th>\n      <th>SG_CLASSE</th>\n      <th>DS_CLASSE</th>\n      <th>CD_ASSUNTO_PRINCIPAL</th>\n      <th>DS_ASSUNTO_PRINCIPAL</th>\n      <th>DS_TIPO_RECURSO</th>\n      <th>DS_NATUREZA_RECURSO</th>\n      <th>ST_CONCLUSO</th>\n      <th>QT_DECISOES</th>\n      <th>DT_ULTIMA_DECISAO</th>\n      <th>DS_ULTIMA_DECISAO</th>\n    </tr>\n  </thead>\n  <tbody>\n    <tr>\n      <th>0</th>\n      <td>10/11/2023</td>\n      <td>05:04:58</td>\n      <td>2022</td>\n      <td>Processo</td>\n      <td>157983883</td>\n      <td>06/08/2022</td>\n      <td>10/10/2022</td>\n      <td>0600689-20.2022.6.00.0000</td>\n      <td>DF</td>\n      <td>0</td>\n      <td>...</td>\n      <td>RCand</td>\n      <td>REGISTRO DE CANDIDATURA</td>\n      <td>12044.0</td>\n      <td>Registro de Candidatura - DRAP Partido/Coligação</td>\n      <td>Embargos de Declaração</td>\n      <td>Interno</td>\n      <td>0</td>\n      <td>4</td>\n      <td>15-SEP-22</td>\n      <td>NaN</td>\n    </tr>\n    <tr>\n      <th>1</th>\n      <td>10/11/2023</td>\n      <td>05:04:58</td>\n      <td>2022</td>\n      <td>Processo</td>\n      <td>157983856</td>\n      <td>06/08/2022</td>\n      <td>10/10/2022</td>\n      <td>0600689-20.2022.6.00.0000</td>\n      <td>DF</td>\n      <td>0</td>\n      <td>...</td>\n      <td>RCand</td>\n      <td>REGISTRO DE CANDIDATURA</td>\n      <td>12044.0</td>\n      <td>Registro de Candidatura - DRAP Partido/Coligação</td>\n      <td>Impugnação</td>\n      <td>Interno</td>\n      <td>0</td>\n      <td>4</td>\n      <td>15-SEP-22</td>\n      <td>NaN</td>\n    </tr>\n    <tr>\n      <th>2</th>\n      <td>10/11/2023</td>\n      <td>05:04:58</td>\n      <td>2022</td>\n      <td>Processo</td>\n      <td>157980480</td>\n      <td>06/08/2022</td>\n      <td>10/10/2022</td>\n      <td>0600689-20.2022.6.00.0000</td>\n      <td>DF</td>\n      <td>0</td>\n      <td>...</td>\n      <td>RCand</td>\n      <td>REGISTRO DE CANDIDATURA</td>\n      <td>12044.0</td>\n      <td>Registro de Candidatura - DRAP Partido/Coligação</td>\n      <td>Impugnação</td>\n      <td>Interno</td>\n      <td>0</td>\n      <td>4</td>\n      <td>15-SEP-22</td>\n      <td>NaN</td>\n    </tr>\n    <tr>\n      <th>3</th>\n      <td>10/11/2023</td>\n      <td>05:04:58</td>\n      <td>2022</td>\n      <td>Processo</td>\n      <td>157980681</td>\n      <td>06/08/2022</td>\n      <td>10/10/2022</td>\n      <td>0600689-20.2022.6.00.0000</td>\n      <td>DF</td>\n      <td>0</td>\n      <td>...</td>\n      <td>RCand</td>\n      <td>REGISTRO DE CANDIDATURA</td>\n      <td>12044.0</td>\n      <td>Registro de Candidatura - DRAP Partido/Coligação</td>\n      <td>Impugnação</td>\n      <td>Interno</td>\n      <td>0</td>\n      <td>4</td>\n      <td>15-SEP-22</td>\n      <td>NaN</td>\n    </tr>\n    <tr>\n      <th>4</th>\n      <td>10/11/2023</td>\n      <td>05:04:58</td>\n      <td>2022</td>\n      <td>Processo</td>\n      <td>157980680</td>\n      <td>06/08/2022</td>\n      <td>10/10/2022</td>\n      <td>0600689-20.2022.6.00.0000</td>\n      <td>DF</td>\n      <td>0</td>\n      <td>...</td>\n      <td>RCand</td>\n      <td>REGISTRO DE CANDIDATURA</td>\n      <td>12044.0</td>\n      <td>Registro de Candidatura - DRAP Partido/Coligação</td>\n      <td>Impugnação</td>\n      <td>Interno</td>\n      <td>0</td>\n      <td>4</td>\n      <td>15-SEP-22</td>\n      <td>NaN</td>\n    </tr>\n    <tr>\n      <th>...</th>\n      <td>...</td>\n      <td>...</td>\n      <td>...</td>\n      <td>...</td>\n      <td>...</td>\n      <td>...</td>\n      <td>...</td>\n      <td>...</td>\n      <td>...</td>\n      <td>...</td>\n      <td>...</td>\n      <td>...</td>\n      <td>...</td>\n      <td>...</td>\n      <td>...</td>\n      <td>...</td>\n      <td>...</td>\n      <td>...</td>\n      <td>...</td>\n      <td>...</td>\n      <td>...</td>\n    </tr>\n    <tr>\n      <th>14633</th>\n      <td>10/11/2023</td>\n      <td>05:03:39</td>\n      <td>2022</td>\n      <td>Processo</td>\n      <td>9752761</td>\n      <td>12/08/2022</td>\n      <td>04/10/2022</td>\n      <td>0600534-64.2022.6.27.0000</td>\n      <td>TO</td>\n      <td>27</td>\n      <td>...</td>\n      <td>RCand</td>\n      <td>REGISTRO DE CANDIDATURA</td>\n      <td>11618.0</td>\n      <td>Registro de Candidatura - RRC - Candidato</td>\n      <td>Impugnação</td>\n      <td>Interno</td>\n      <td>0</td>\n      <td>3</td>\n      <td>06-SEP-22</td>\n      <td>NaN</td>\n    </tr>\n    <tr>\n      <th>14634</th>\n      <td>10/11/2023</td>\n      <td>05:03:39</td>\n      <td>2022</td>\n      <td>Processo</td>\n      <td>9752762</td>\n      <td>12/08/2022</td>\n      <td>04/10/2022</td>\n      <td>0600534-64.2022.6.27.0000</td>\n      <td>TO</td>\n      <td>27</td>\n      <td>...</td>\n      <td>RCand</td>\n      <td>REGISTRO DE CANDIDATURA</td>\n      <td>11618.0</td>\n      <td>Registro de Candidatura - RRC - Candidato</td>\n      <td>Impugnação</td>\n      <td>Interno</td>\n      <td>0</td>\n      <td>3</td>\n      <td>06-SEP-22</td>\n      <td>NaN</td>\n    </tr>\n    <tr>\n      <th>14635</th>\n      <td>10/11/2023</td>\n      <td>05:03:39</td>\n      <td>2022</td>\n      <td>Processo</td>\n      <td>9760627</td>\n      <td>26/08/2022</td>\n      <td>21/09/2022</td>\n      <td>0600951-17.2022.6.27.0000</td>\n      <td>TO</td>\n      <td>27</td>\n      <td>...</td>\n      <td>RCand</td>\n      <td>REGISTRO DE CANDIDATURA</td>\n      <td>11621.0</td>\n      <td>Registro de Candidatura - Substituição de Cand...</td>\n      <td>Agravo de Instrumento</td>\n      <td>Externo</td>\n      <td>0</td>\n      <td>1</td>\n      <td>03-SEP-22</td>\n      <td>NaN</td>\n    </tr>\n    <tr>\n      <th>14636</th>\n      <td>10/11/2023</td>\n      <td>05:03:39</td>\n      <td>2022</td>\n      <td>Processo</td>\n      <td>9752391</td>\n      <td>12/08/2022</td>\n      <td>20/09/2022</td>\n      <td>0600467-02.2022.6.27.0000</td>\n      <td>TO</td>\n      <td>27</td>\n      <td>...</td>\n      <td>RCand</td>\n      <td>REGISTRO DE CANDIDATURA</td>\n      <td>11618.0</td>\n      <td>Registro de Candidatura - RRC - Candidato</td>\n      <td>Impugnação</td>\n      <td>Interno</td>\n      <td>0</td>\n      <td>2</td>\n      <td>05-SEP-22</td>\n      <td>NaN</td>\n    </tr>\n    <tr>\n      <th>14637</th>\n      <td>10/11/2023</td>\n      <td>05:03:39</td>\n      <td>2022</td>\n      <td>Processo</td>\n      <td>9752392</td>\n      <td>12/08/2022</td>\n      <td>20/09/2022</td>\n      <td>0600467-02.2022.6.27.0000</td>\n      <td>TO</td>\n      <td>27</td>\n      <td>...</td>\n      <td>RCand</td>\n      <td>REGISTRO DE CANDIDATURA</td>\n      <td>11618.0</td>\n      <td>Registro de Candidatura - RRC - Candidato</td>\n      <td>Impugnação</td>\n      <td>Interno</td>\n      <td>0</td>\n      <td>2</td>\n      <td>05-SEP-22</td>\n      <td>NaN</td>\n    </tr>\n  </tbody>\n</table>\n<p>14638 rows × 30 columns</p>\n</div>"
     },
     "execution_count": 16,
     "metadata": {},
     "output_type": "execute_result"
    }
   ],
   "source": [
    "recurso"
   ],
   "metadata": {
    "collapsed": false,
    "ExecuteTime": {
     "end_time": "2023-12-04T18:49:52.875957500Z",
     "start_time": "2023-12-04T18:49:52.532060900Z"
    }
   },
   "id": "d8b5e854a48b9ffc"
  },
  {
   "cell_type": "code",
   "execution_count": 17,
   "outputs": [
    {
     "data": {
      "text/plain": "DT_GERACAO                   object\nHH_GERACAO                   object\nANO_ELEICAO                   int64\nDS_IDENTIFICACAO_RECURSO     object\nNR_RECURSO                    int64\nDT_AUTUACAO                  object\nDT_BAIXA                     object\nNR_PROCESSO_ORIGEM           object\nSG_UF_TRIBUNAL_ORIGEM        object\nNR_INSTANCIA_ORIGEM           int64\nSG_UF_TRIBUNAL               object\nNR_INSTANCIA                  int64\nDT_DISTRIBUICAO              object\nCD_TIPO_DISTRIBUICAO        float64\nDS_TIPO_DISTRIBUICAO        float64\nCD_RELATOR                    int64\nNM_RELATOR                   object\nCD_TIPO_CARGO_RELATOR         int64\nDS_TIPO_CARGO_RELATOR        object\nCD_CLASSE                     int64\nSG_CLASSE                    object\nDS_CLASSE                    object\nCD_ASSUNTO_PRINCIPAL        float64\nDS_ASSUNTO_PRINCIPAL         object\nDS_TIPO_RECURSO              object\nDS_NATUREZA_RECURSO          object\nST_CONCLUSO                   int64\nQT_DECISOES                   int64\nDT_ULTIMA_DECISAO            object\nDS_ULTIMA_DECISAO           float64\ndtype: object"
     },
     "execution_count": 17,
     "metadata": {},
     "output_type": "execute_result"
    }
   ],
   "source": [
    "recurso.dtypes"
   ],
   "metadata": {
    "collapsed": false,
    "ExecuteTime": {
     "end_time": "2023-12-04T18:50:55.809300100Z",
     "start_time": "2023-12-04T18:50:55.795138300Z"
    }
   },
   "id": "e438f56ed830e487"
  },
  {
   "cell_type": "code",
   "execution_count": 18,
   "outputs": [],
   "source": [
    "recurso['DT_GERACAO'] = pd.to_datetime(recurso['DT_GERACAO'], format='%d/%m/%Y', errors='coerce')\n",
    "recurso['DT_BAIXA'] = pd.to_datetime(recurso['DT_BAIXA'], format='%d/%m/%Y', errors='coerce')\n",
    "recurso['DT_DISTRIBUICAO'] = pd.to_datetime(recurso['DT_DISTRIBUICAO'], format='%d/%m/%Y', errors='coerce')\n",
    "recurso['DT_AUTUACAO'] = pd.to_datetime(recurso['DT_AUTUACAO'], format='%d/%m/%Y', errors='coerce')"
   ],
   "metadata": {
    "collapsed": false,
    "ExecuteTime": {
     "end_time": "2023-12-04T18:51:34.332435Z",
     "start_time": "2023-12-04T18:51:34.281922300Z"
    }
   },
   "id": "a4b56567bd9474d9"
  },
  {
   "cell_type": "code",
   "execution_count": 19,
   "outputs": [],
   "source": [
    "recursotipo =recurso[['DS_TIPO_RECURSO']]"
   ],
   "metadata": {
    "collapsed": false,
    "ExecuteTime": {
     "end_time": "2023-12-04T18:52:56.666346500Z",
     "start_time": "2023-12-04T18:52:56.630006800Z"
    }
   },
   "id": "ac0f2829e8ff6c6f"
  },
  {
   "cell_type": "code",
   "execution_count": 20,
   "outputs": [
    {
     "data": {
      "text/plain": "              DS_TIPO_RECURSO\n0      Embargos de Declaração\n1                  Impugnação\n2                  Impugnação\n3                  Impugnação\n4                  Impugnação\n...                       ...\n14633              Impugnação\n14634              Impugnação\n14635   Agravo de Instrumento\n14636              Impugnação\n14637              Impugnação\n\n[14638 rows x 1 columns]",
      "text/html": "<div>\n<style scoped>\n    .dataframe tbody tr th:only-of-type {\n        vertical-align: middle;\n    }\n\n    .dataframe tbody tr th {\n        vertical-align: top;\n    }\n\n    .dataframe thead th {\n        text-align: right;\n    }\n</style>\n<table border=\"1\" class=\"dataframe\">\n  <thead>\n    <tr style=\"text-align: right;\">\n      <th></th>\n      <th>DS_TIPO_RECURSO</th>\n    </tr>\n  </thead>\n  <tbody>\n    <tr>\n      <th>0</th>\n      <td>Embargos de Declaração</td>\n    </tr>\n    <tr>\n      <th>1</th>\n      <td>Impugnação</td>\n    </tr>\n    <tr>\n      <th>2</th>\n      <td>Impugnação</td>\n    </tr>\n    <tr>\n      <th>3</th>\n      <td>Impugnação</td>\n    </tr>\n    <tr>\n      <th>4</th>\n      <td>Impugnação</td>\n    </tr>\n    <tr>\n      <th>...</th>\n      <td>...</td>\n    </tr>\n    <tr>\n      <th>14633</th>\n      <td>Impugnação</td>\n    </tr>\n    <tr>\n      <th>14634</th>\n      <td>Impugnação</td>\n    </tr>\n    <tr>\n      <th>14635</th>\n      <td>Agravo de Instrumento</td>\n    </tr>\n    <tr>\n      <th>14636</th>\n      <td>Impugnação</td>\n    </tr>\n    <tr>\n      <th>14637</th>\n      <td>Impugnação</td>\n    </tr>\n  </tbody>\n</table>\n<p>14638 rows × 1 columns</p>\n</div>"
     },
     "execution_count": 20,
     "metadata": {},
     "output_type": "execute_result"
    }
   ],
   "source": [
    "recursotipo"
   ],
   "metadata": {
    "collapsed": false,
    "ExecuteTime": {
     "end_time": "2023-12-04T18:53:00.453809800Z",
     "start_time": "2023-12-04T18:53:00.428854600Z"
    }
   },
   "id": "60bde59922f51902"
  },
  {
   "cell_type": "code",
   "execution_count": 21,
   "outputs": [
    {
     "data": {
      "text/plain": "                          DS_TIPO_RECURSO\n0                  Embargos de Declaração\n1                              Impugnação\n6                       Agravo Regimental\n19                                Recurso\n42                 Recurso Extraordinário\n216                 Agravo de Instrumento\n391                     Recurso Ordinário\n1868                               Agravo\n2270     Petição de Agravo de Instrumento\n2350   Petição de Agravo (Lei12.322/2010)\n3116                       Agravo Interno\n3134           Agravo em Recurso Especial\n4691             Pedido de Reconsideração\n12797                   Recurso Inominado",
      "text/html": "<div>\n<style scoped>\n    .dataframe tbody tr th:only-of-type {\n        vertical-align: middle;\n    }\n\n    .dataframe tbody tr th {\n        vertical-align: top;\n    }\n\n    .dataframe thead th {\n        text-align: right;\n    }\n</style>\n<table border=\"1\" class=\"dataframe\">\n  <thead>\n    <tr style=\"text-align: right;\">\n      <th></th>\n      <th>DS_TIPO_RECURSO</th>\n    </tr>\n  </thead>\n  <tbody>\n    <tr>\n      <th>0</th>\n      <td>Embargos de Declaração</td>\n    </tr>\n    <tr>\n      <th>1</th>\n      <td>Impugnação</td>\n    </tr>\n    <tr>\n      <th>6</th>\n      <td>Agravo Regimental</td>\n    </tr>\n    <tr>\n      <th>19</th>\n      <td>Recurso</td>\n    </tr>\n    <tr>\n      <th>42</th>\n      <td>Recurso Extraordinário</td>\n    </tr>\n    <tr>\n      <th>216</th>\n      <td>Agravo de Instrumento</td>\n    </tr>\n    <tr>\n      <th>391</th>\n      <td>Recurso Ordinário</td>\n    </tr>\n    <tr>\n      <th>1868</th>\n      <td>Agravo</td>\n    </tr>\n    <tr>\n      <th>2270</th>\n      <td>Petição de Agravo de Instrumento</td>\n    </tr>\n    <tr>\n      <th>2350</th>\n      <td>Petição de Agravo (Lei12.322/2010)</td>\n    </tr>\n    <tr>\n      <th>3116</th>\n      <td>Agravo Interno</td>\n    </tr>\n    <tr>\n      <th>3134</th>\n      <td>Agravo em Recurso Especial</td>\n    </tr>\n    <tr>\n      <th>4691</th>\n      <td>Pedido de Reconsideração</td>\n    </tr>\n    <tr>\n      <th>12797</th>\n      <td>Recurso Inominado</td>\n    </tr>\n  </tbody>\n</table>\n</div>"
     },
     "execution_count": 21,
     "metadata": {},
     "output_type": "execute_result"
    }
   ],
   "source": [
    "recursotipo.drop_duplicates()"
   ],
   "metadata": {
    "collapsed": false,
    "ExecuteTime": {
     "end_time": "2023-12-04T18:53:12.059777200Z",
     "start_time": "2023-12-04T18:53:11.985493100Z"
    }
   },
   "id": "90f583bbf18fc2df"
  },
  {
   "cell_type": "code",
   "execution_count": 25,
   "outputs": [],
   "source": [
    "recursotipo.loc[:,'idtiporecurso'] = recursotipo.index + 1"
   ],
   "metadata": {
    "collapsed": false,
    "ExecuteTime": {
     "end_time": "2023-12-04T18:56:36.862012200Z",
     "start_time": "2023-12-04T18:56:36.761046800Z"
    }
   },
   "id": "64b2a3813fe67b69"
  },
  {
   "cell_type": "code",
   "execution_count": 26,
   "outputs": [
    {
     "data": {
      "text/plain": "              DS_TIPO_RECURSO  idtiporecurso\n0      Embargos de Declaração              1\n1                  Impugnação              2\n2                  Impugnação              3\n3                  Impugnação              4\n4                  Impugnação              5\n...                       ...            ...\n14633              Impugnação          14634\n14634              Impugnação          14635\n14635   Agravo de Instrumento          14636\n14636              Impugnação          14637\n14637              Impugnação          14638\n\n[14638 rows x 2 columns]",
      "text/html": "<div>\n<style scoped>\n    .dataframe tbody tr th:only-of-type {\n        vertical-align: middle;\n    }\n\n    .dataframe tbody tr th {\n        vertical-align: top;\n    }\n\n    .dataframe thead th {\n        text-align: right;\n    }\n</style>\n<table border=\"1\" class=\"dataframe\">\n  <thead>\n    <tr style=\"text-align: right;\">\n      <th></th>\n      <th>DS_TIPO_RECURSO</th>\n      <th>idtiporecurso</th>\n    </tr>\n  </thead>\n  <tbody>\n    <tr>\n      <th>0</th>\n      <td>Embargos de Declaração</td>\n      <td>1</td>\n    </tr>\n    <tr>\n      <th>1</th>\n      <td>Impugnação</td>\n      <td>2</td>\n    </tr>\n    <tr>\n      <th>2</th>\n      <td>Impugnação</td>\n      <td>3</td>\n    </tr>\n    <tr>\n      <th>3</th>\n      <td>Impugnação</td>\n      <td>4</td>\n    </tr>\n    <tr>\n      <th>4</th>\n      <td>Impugnação</td>\n      <td>5</td>\n    </tr>\n    <tr>\n      <th>...</th>\n      <td>...</td>\n      <td>...</td>\n    </tr>\n    <tr>\n      <th>14633</th>\n      <td>Impugnação</td>\n      <td>14634</td>\n    </tr>\n    <tr>\n      <th>14634</th>\n      <td>Impugnação</td>\n      <td>14635</td>\n    </tr>\n    <tr>\n      <th>14635</th>\n      <td>Agravo de Instrumento</td>\n      <td>14636</td>\n    </tr>\n    <tr>\n      <th>14636</th>\n      <td>Impugnação</td>\n      <td>14637</td>\n    </tr>\n    <tr>\n      <th>14637</th>\n      <td>Impugnação</td>\n      <td>14638</td>\n    </tr>\n  </tbody>\n</table>\n<p>14638 rows × 2 columns</p>\n</div>"
     },
     "execution_count": 26,
     "metadata": {},
     "output_type": "execute_result"
    }
   ],
   "source": [
    "recursotipo"
   ],
   "metadata": {
    "collapsed": false,
    "ExecuteTime": {
     "end_time": "2023-12-04T18:56:41.826556400Z",
     "start_time": "2023-12-04T18:56:41.795331400Z"
    }
   },
   "id": "75336eef80d860d0"
  },
  {
   "cell_type": "code",
   "execution_count": 29,
   "outputs": [
    {
     "data": {
      "text/plain": "              DS_TIPO_RECURSO  idtiporecurso\n0      Embargos de Declaração              1\n1                  Impugnação              2\n2                  Impugnação              3\n3                  Impugnação              4\n4                  Impugnação              5\n...                       ...            ...\n14633              Impugnação          14634\n14634              Impugnação          14635\n14635   Agravo de Instrumento          14636\n14636              Impugnação          14637\n14637              Impugnação          14638\n\n[14638 rows x 2 columns]",
      "text/html": "<div>\n<style scoped>\n    .dataframe tbody tr th:only-of-type {\n        vertical-align: middle;\n    }\n\n    .dataframe tbody tr th {\n        vertical-align: top;\n    }\n\n    .dataframe thead th {\n        text-align: right;\n    }\n</style>\n<table border=\"1\" class=\"dataframe\">\n  <thead>\n    <tr style=\"text-align: right;\">\n      <th></th>\n      <th>DS_TIPO_RECURSO</th>\n      <th>idtiporecurso</th>\n    </tr>\n  </thead>\n  <tbody>\n    <tr>\n      <th>0</th>\n      <td>Embargos de Declaração</td>\n      <td>1</td>\n    </tr>\n    <tr>\n      <th>1</th>\n      <td>Impugnação</td>\n      <td>2</td>\n    </tr>\n    <tr>\n      <th>2</th>\n      <td>Impugnação</td>\n      <td>3</td>\n    </tr>\n    <tr>\n      <th>3</th>\n      <td>Impugnação</td>\n      <td>4</td>\n    </tr>\n    <tr>\n      <th>4</th>\n      <td>Impugnação</td>\n      <td>5</td>\n    </tr>\n    <tr>\n      <th>...</th>\n      <td>...</td>\n      <td>...</td>\n    </tr>\n    <tr>\n      <th>14633</th>\n      <td>Impugnação</td>\n      <td>14634</td>\n    </tr>\n    <tr>\n      <th>14634</th>\n      <td>Impugnação</td>\n      <td>14635</td>\n    </tr>\n    <tr>\n      <th>14635</th>\n      <td>Agravo de Instrumento</td>\n      <td>14636</td>\n    </tr>\n    <tr>\n      <th>14636</th>\n      <td>Impugnação</td>\n      <td>14637</td>\n    </tr>\n    <tr>\n      <th>14637</th>\n      <td>Impugnação</td>\n      <td>14638</td>\n    </tr>\n  </tbody>\n</table>\n<p>14638 rows × 2 columns</p>\n</div>"
     },
     "execution_count": 29,
     "metadata": {},
     "output_type": "execute_result"
    }
   ],
   "source": [
    "recursotipo"
   ],
   "metadata": {
    "collapsed": false,
    "ExecuteTime": {
     "end_time": "2023-12-04T18:57:27.579397900Z",
     "start_time": "2023-12-04T18:57:27.411187200Z"
    }
   },
   "id": "f1bd44622f3b307b"
  },
  {
   "cell_type": "code",
   "execution_count": 30,
   "outputs": [
    {
     "data": {
      "text/plain": "                          DS_TIPO_RECURSO  idtiporecurso\n0                  Embargos de Declaração              1\n1                              Impugnação              2\n6                       Agravo Regimental              7\n19                                Recurso             20\n42                 Recurso Extraordinário             43\n216                 Agravo de Instrumento            217\n391                     Recurso Ordinário            392\n1868                               Agravo           1869\n2270     Petição de Agravo de Instrumento           2271\n2350   Petição de Agravo (Lei12.322/2010)           2351\n3116                       Agravo Interno           3117\n3134           Agravo em Recurso Especial           3135\n4691             Pedido de Reconsideração           4692\n12797                   Recurso Inominado          12798",
      "text/html": "<div>\n<style scoped>\n    .dataframe tbody tr th:only-of-type {\n        vertical-align: middle;\n    }\n\n    .dataframe tbody tr th {\n        vertical-align: top;\n    }\n\n    .dataframe thead th {\n        text-align: right;\n    }\n</style>\n<table border=\"1\" class=\"dataframe\">\n  <thead>\n    <tr style=\"text-align: right;\">\n      <th></th>\n      <th>DS_TIPO_RECURSO</th>\n      <th>idtiporecurso</th>\n    </tr>\n  </thead>\n  <tbody>\n    <tr>\n      <th>0</th>\n      <td>Embargos de Declaração</td>\n      <td>1</td>\n    </tr>\n    <tr>\n      <th>1</th>\n      <td>Impugnação</td>\n      <td>2</td>\n    </tr>\n    <tr>\n      <th>6</th>\n      <td>Agravo Regimental</td>\n      <td>7</td>\n    </tr>\n    <tr>\n      <th>19</th>\n      <td>Recurso</td>\n      <td>20</td>\n    </tr>\n    <tr>\n      <th>42</th>\n      <td>Recurso Extraordinário</td>\n      <td>43</td>\n    </tr>\n    <tr>\n      <th>216</th>\n      <td>Agravo de Instrumento</td>\n      <td>217</td>\n    </tr>\n    <tr>\n      <th>391</th>\n      <td>Recurso Ordinário</td>\n      <td>392</td>\n    </tr>\n    <tr>\n      <th>1868</th>\n      <td>Agravo</td>\n      <td>1869</td>\n    </tr>\n    <tr>\n      <th>2270</th>\n      <td>Petição de Agravo de Instrumento</td>\n      <td>2271</td>\n    </tr>\n    <tr>\n      <th>2350</th>\n      <td>Petição de Agravo (Lei12.322/2010)</td>\n      <td>2351</td>\n    </tr>\n    <tr>\n      <th>3116</th>\n      <td>Agravo Interno</td>\n      <td>3117</td>\n    </tr>\n    <tr>\n      <th>3134</th>\n      <td>Agravo em Recurso Especial</td>\n      <td>3135</td>\n    </tr>\n    <tr>\n      <th>4691</th>\n      <td>Pedido de Reconsideração</td>\n      <td>4692</td>\n    </tr>\n    <tr>\n      <th>12797</th>\n      <td>Recurso Inominado</td>\n      <td>12798</td>\n    </tr>\n  </tbody>\n</table>\n</div>"
     },
     "execution_count": 30,
     "metadata": {},
     "output_type": "execute_result"
    }
   ],
   "source": [
    "recursotipo.drop_duplicates('DS_TIPO_RECURSO')"
   ],
   "metadata": {
    "collapsed": false,
    "ExecuteTime": {
     "end_time": "2023-12-04T18:58:21.135793500Z",
     "start_time": "2023-12-04T18:58:21.075036800Z"
    }
   },
   "id": "c555a6578594a304"
  },
  {
   "cell_type": "code",
   "execution_count": 31,
   "outputs": [
    {
     "data": {
      "text/plain": "              DS_TIPO_RECURSO  idtiporecurso\n0      Embargos de Declaração              1\n1                  Impugnação              2\n2                  Impugnação              3\n3                  Impugnação              4\n4                  Impugnação              5\n...                       ...            ...\n14633              Impugnação          14634\n14634              Impugnação          14635\n14635   Agravo de Instrumento          14636\n14636              Impugnação          14637\n14637              Impugnação          14638\n\n[14638 rows x 2 columns]",
      "text/html": "<div>\n<style scoped>\n    .dataframe tbody tr th:only-of-type {\n        vertical-align: middle;\n    }\n\n    .dataframe tbody tr th {\n        vertical-align: top;\n    }\n\n    .dataframe thead th {\n        text-align: right;\n    }\n</style>\n<table border=\"1\" class=\"dataframe\">\n  <thead>\n    <tr style=\"text-align: right;\">\n      <th></th>\n      <th>DS_TIPO_RECURSO</th>\n      <th>idtiporecurso</th>\n    </tr>\n  </thead>\n  <tbody>\n    <tr>\n      <th>0</th>\n      <td>Embargos de Declaração</td>\n      <td>1</td>\n    </tr>\n    <tr>\n      <th>1</th>\n      <td>Impugnação</td>\n      <td>2</td>\n    </tr>\n    <tr>\n      <th>2</th>\n      <td>Impugnação</td>\n      <td>3</td>\n    </tr>\n    <tr>\n      <th>3</th>\n      <td>Impugnação</td>\n      <td>4</td>\n    </tr>\n    <tr>\n      <th>4</th>\n      <td>Impugnação</td>\n      <td>5</td>\n    </tr>\n    <tr>\n      <th>...</th>\n      <td>...</td>\n      <td>...</td>\n    </tr>\n    <tr>\n      <th>14633</th>\n      <td>Impugnação</td>\n      <td>14634</td>\n    </tr>\n    <tr>\n      <th>14634</th>\n      <td>Impugnação</td>\n      <td>14635</td>\n    </tr>\n    <tr>\n      <th>14635</th>\n      <td>Agravo de Instrumento</td>\n      <td>14636</td>\n    </tr>\n    <tr>\n      <th>14636</th>\n      <td>Impugnação</td>\n      <td>14637</td>\n    </tr>\n    <tr>\n      <th>14637</th>\n      <td>Impugnação</td>\n      <td>14638</td>\n    </tr>\n  </tbody>\n</table>\n<p>14638 rows × 2 columns</p>\n</div>"
     },
     "execution_count": 31,
     "metadata": {},
     "output_type": "execute_result"
    }
   ],
   "source": [
    "recursotipo"
   ],
   "metadata": {
    "collapsed": false,
    "ExecuteTime": {
     "end_time": "2023-12-04T18:58:51.665861400Z",
     "start_time": "2023-12-04T18:58:51.559123100Z"
    }
   },
   "id": "647230972153fd63"
  },
  {
   "cell_type": "code",
   "execution_count": 32,
   "outputs": [
    {
     "data": {
      "text/plain": "                          DS_TIPO_RECURSO  idtiporecurso\n0                  Embargos de Declaração              1\n1                              Impugnação              2\n6                       Agravo Regimental              7\n19                                Recurso             20\n42                 Recurso Extraordinário             43\n216                 Agravo de Instrumento            217\n391                     Recurso Ordinário            392\n1868                               Agravo           1869\n2270     Petição de Agravo de Instrumento           2271\n2350   Petição de Agravo (Lei12.322/2010)           2351\n3116                       Agravo Interno           3117\n3134           Agravo em Recurso Especial           3135\n4691             Pedido de Reconsideração           4692\n12797                   Recurso Inominado          12798",
      "text/html": "<div>\n<style scoped>\n    .dataframe tbody tr th:only-of-type {\n        vertical-align: middle;\n    }\n\n    .dataframe tbody tr th {\n        vertical-align: top;\n    }\n\n    .dataframe thead th {\n        text-align: right;\n    }\n</style>\n<table border=\"1\" class=\"dataframe\">\n  <thead>\n    <tr style=\"text-align: right;\">\n      <th></th>\n      <th>DS_TIPO_RECURSO</th>\n      <th>idtiporecurso</th>\n    </tr>\n  </thead>\n  <tbody>\n    <tr>\n      <th>0</th>\n      <td>Embargos de Declaração</td>\n      <td>1</td>\n    </tr>\n    <tr>\n      <th>1</th>\n      <td>Impugnação</td>\n      <td>2</td>\n    </tr>\n    <tr>\n      <th>6</th>\n      <td>Agravo Regimental</td>\n      <td>7</td>\n    </tr>\n    <tr>\n      <th>19</th>\n      <td>Recurso</td>\n      <td>20</td>\n    </tr>\n    <tr>\n      <th>42</th>\n      <td>Recurso Extraordinário</td>\n      <td>43</td>\n    </tr>\n    <tr>\n      <th>216</th>\n      <td>Agravo de Instrumento</td>\n      <td>217</td>\n    </tr>\n    <tr>\n      <th>391</th>\n      <td>Recurso Ordinário</td>\n      <td>392</td>\n    </tr>\n    <tr>\n      <th>1868</th>\n      <td>Agravo</td>\n      <td>1869</td>\n    </tr>\n    <tr>\n      <th>2270</th>\n      <td>Petição de Agravo de Instrumento</td>\n      <td>2271</td>\n    </tr>\n    <tr>\n      <th>2350</th>\n      <td>Petição de Agravo (Lei12.322/2010)</td>\n      <td>2351</td>\n    </tr>\n    <tr>\n      <th>3116</th>\n      <td>Agravo Interno</td>\n      <td>3117</td>\n    </tr>\n    <tr>\n      <th>3134</th>\n      <td>Agravo em Recurso Especial</td>\n      <td>3135</td>\n    </tr>\n    <tr>\n      <th>4691</th>\n      <td>Pedido de Reconsideração</td>\n      <td>4692</td>\n    </tr>\n    <tr>\n      <th>12797</th>\n      <td>Recurso Inominado</td>\n      <td>12798</td>\n    </tr>\n  </tbody>\n</table>\n</div>"
     },
     "execution_count": 32,
     "metadata": {},
     "output_type": "execute_result"
    }
   ],
   "source": [
    "recursotipo.drop_duplicates('DS_TIPO_RECURSO')"
   ],
   "metadata": {
    "collapsed": false,
    "ExecuteTime": {
     "end_time": "2023-12-04T18:59:09.843934700Z",
     "start_time": "2023-12-04T18:59:09.799953700Z"
    }
   },
   "id": "77981ef98c4d0b0a"
  },
  {
   "cell_type": "code",
   "execution_count": 34,
   "outputs": [
    {
     "data": {
      "text/plain": "              DS_TIPO_RECURSO\n0      Embargos de Declaração\n1                  Impugnação\n2                  Impugnação\n3                  Impugnação\n4                  Impugnação\n...                       ...\n14633              Impugnação\n14634              Impugnação\n14635   Agravo de Instrumento\n14636              Impugnação\n14637              Impugnação\n\n[14638 rows x 1 columns]",
      "text/html": "<div>\n<style scoped>\n    .dataframe tbody tr th:only-of-type {\n        vertical-align: middle;\n    }\n\n    .dataframe tbody tr th {\n        vertical-align: top;\n    }\n\n    .dataframe thead th {\n        text-align: right;\n    }\n</style>\n<table border=\"1\" class=\"dataframe\">\n  <thead>\n    <tr style=\"text-align: right;\">\n      <th></th>\n      <th>DS_TIPO_RECURSO</th>\n    </tr>\n  </thead>\n  <tbody>\n    <tr>\n      <th>0</th>\n      <td>Embargos de Declaração</td>\n    </tr>\n    <tr>\n      <th>1</th>\n      <td>Impugnação</td>\n    </tr>\n    <tr>\n      <th>2</th>\n      <td>Impugnação</td>\n    </tr>\n    <tr>\n      <th>3</th>\n      <td>Impugnação</td>\n    </tr>\n    <tr>\n      <th>4</th>\n      <td>Impugnação</td>\n    </tr>\n    <tr>\n      <th>...</th>\n      <td>...</td>\n    </tr>\n    <tr>\n      <th>14633</th>\n      <td>Impugnação</td>\n    </tr>\n    <tr>\n      <th>14634</th>\n      <td>Impugnação</td>\n    </tr>\n    <tr>\n      <th>14635</th>\n      <td>Agravo de Instrumento</td>\n    </tr>\n    <tr>\n      <th>14636</th>\n      <td>Impugnação</td>\n    </tr>\n    <tr>\n      <th>14637</th>\n      <td>Impugnação</td>\n    </tr>\n  </tbody>\n</table>\n<p>14638 rows × 1 columns</p>\n</div>"
     },
     "execution_count": 34,
     "metadata": {},
     "output_type": "execute_result"
    }
   ],
   "source": [
    "recursotipo.drop(columns='idtiporecurso')"
   ],
   "metadata": {
    "collapsed": false,
    "ExecuteTime": {
     "end_time": "2023-12-04T18:59:41.234962100Z",
     "start_time": "2023-12-04T18:59:41.193119600Z"
    }
   },
   "id": "e5ecd86626547a52"
  },
  {
   "cell_type": "code",
   "execution_count": 35,
   "outputs": [],
   "source": [
    "recursopronta=recursotipo.drop_duplicates('DS_TIPO_RECURSO')"
   ],
   "metadata": {
    "collapsed": false,
    "ExecuteTime": {
     "end_time": "2023-12-04T19:00:12.025658500Z",
     "start_time": "2023-12-04T19:00:11.988886700Z"
    }
   },
   "id": "c92d46503d272d02"
  },
  {
   "cell_type": "code",
   "execution_count": 36,
   "outputs": [],
   "source": [
    "recursopronta.loc[:,'idtiporecurso']=recursopronta.index+1"
   ],
   "metadata": {
    "collapsed": false,
    "ExecuteTime": {
     "end_time": "2023-12-04T19:00:54.256738100Z",
     "start_time": "2023-12-04T19:00:54.218105300Z"
    }
   },
   "id": "fd029c42d0242500"
  },
  {
   "cell_type": "code",
   "execution_count": 37,
   "outputs": [
    {
     "data": {
      "text/plain": "                          DS_TIPO_RECURSO  idtiporecurso\n0                  Embargos de Declaração              1\n1                              Impugnação              2\n6                       Agravo Regimental              7\n19                                Recurso             20\n42                 Recurso Extraordinário             43\n216                 Agravo de Instrumento            217\n391                     Recurso Ordinário            392\n1868                               Agravo           1869\n2270     Petição de Agravo de Instrumento           2271\n2350   Petição de Agravo (Lei12.322/2010)           2351\n3116                       Agravo Interno           3117\n3134           Agravo em Recurso Especial           3135\n4691             Pedido de Reconsideração           4692\n12797                   Recurso Inominado          12798",
      "text/html": "<div>\n<style scoped>\n    .dataframe tbody tr th:only-of-type {\n        vertical-align: middle;\n    }\n\n    .dataframe tbody tr th {\n        vertical-align: top;\n    }\n\n    .dataframe thead th {\n        text-align: right;\n    }\n</style>\n<table border=\"1\" class=\"dataframe\">\n  <thead>\n    <tr style=\"text-align: right;\">\n      <th></th>\n      <th>DS_TIPO_RECURSO</th>\n      <th>idtiporecurso</th>\n    </tr>\n  </thead>\n  <tbody>\n    <tr>\n      <th>0</th>\n      <td>Embargos de Declaração</td>\n      <td>1</td>\n    </tr>\n    <tr>\n      <th>1</th>\n      <td>Impugnação</td>\n      <td>2</td>\n    </tr>\n    <tr>\n      <th>6</th>\n      <td>Agravo Regimental</td>\n      <td>7</td>\n    </tr>\n    <tr>\n      <th>19</th>\n      <td>Recurso</td>\n      <td>20</td>\n    </tr>\n    <tr>\n      <th>42</th>\n      <td>Recurso Extraordinário</td>\n      <td>43</td>\n    </tr>\n    <tr>\n      <th>216</th>\n      <td>Agravo de Instrumento</td>\n      <td>217</td>\n    </tr>\n    <tr>\n      <th>391</th>\n      <td>Recurso Ordinário</td>\n      <td>392</td>\n    </tr>\n    <tr>\n      <th>1868</th>\n      <td>Agravo</td>\n      <td>1869</td>\n    </tr>\n    <tr>\n      <th>2270</th>\n      <td>Petição de Agravo de Instrumento</td>\n      <td>2271</td>\n    </tr>\n    <tr>\n      <th>2350</th>\n      <td>Petição de Agravo (Lei12.322/2010)</td>\n      <td>2351</td>\n    </tr>\n    <tr>\n      <th>3116</th>\n      <td>Agravo Interno</td>\n      <td>3117</td>\n    </tr>\n    <tr>\n      <th>3134</th>\n      <td>Agravo em Recurso Especial</td>\n      <td>3135</td>\n    </tr>\n    <tr>\n      <th>4691</th>\n      <td>Pedido de Reconsideração</td>\n      <td>4692</td>\n    </tr>\n    <tr>\n      <th>12797</th>\n      <td>Recurso Inominado</td>\n      <td>12798</td>\n    </tr>\n  </tbody>\n</table>\n</div>"
     },
     "execution_count": 37,
     "metadata": {},
     "output_type": "execute_result"
    }
   ],
   "source": [
    "recursopronta"
   ],
   "metadata": {
    "collapsed": false,
    "ExecuteTime": {
     "end_time": "2023-12-04T19:00:59.734785500Z",
     "start_time": "2023-12-04T19:00:59.690133200Z"
    }
   },
   "id": "8df542ea4ed0a063"
  },
  {
   "cell_type": "code",
   "execution_count": 38,
   "outputs": [],
   "source": [
    "recursopronta.to_csv('recursostipoid',index =False)"
   ],
   "metadata": {
    "collapsed": false,
    "ExecuteTime": {
     "end_time": "2023-12-04T19:02:02.944014300Z",
     "start_time": "2023-12-04T19:02:02.906551400Z"
    }
   },
   "id": "eb65eea069084fd6"
  },
  {
   "cell_type": "code",
   "execution_count": 39,
   "outputs": [
    {
     "data": {
      "text/plain": "      DT_GERACAO HH_GERACAO  ANO_ELEICAO DS_IDENTIFICACAO_RECURSO  NR_RECURSO  \\\n0     2023-11-10   05:04:58         2022                 Processo   157983883   \n1     2023-11-10   05:04:58         2022                 Processo   157983856   \n2     2023-11-10   05:04:58         2022                 Processo   157980480   \n3     2023-11-10   05:04:58         2022                 Processo   157980681   \n4     2023-11-10   05:04:58         2022                 Processo   157980680   \n...          ...        ...          ...                      ...         ...   \n14633 2023-11-10   05:03:39         2022                 Processo     9752761   \n14634 2023-11-10   05:03:39         2022                 Processo     9752762   \n14635 2023-11-10   05:03:39         2022                 Processo     9760627   \n14636 2023-11-10   05:03:39         2022                 Processo     9752391   \n14637 2023-11-10   05:03:39         2022                 Processo     9752392   \n\n      DT_AUTUACAO   DT_BAIXA         NR_PROCESSO_ORIGEM SG_UF_TRIBUNAL_ORIGEM  \\\n0      2022-08-06 2022-10-10  0600689-20.2022.6.00.0000                    DF   \n1      2022-08-06 2022-10-10  0600689-20.2022.6.00.0000                    DF   \n2      2022-08-06 2022-10-10  0600689-20.2022.6.00.0000                    DF   \n3      2022-08-06 2022-10-10  0600689-20.2022.6.00.0000                    DF   \n4      2022-08-06 2022-10-10  0600689-20.2022.6.00.0000                    DF   \n...           ...        ...                        ...                   ...   \n14633  2022-08-12 2022-10-04  0600534-64.2022.6.27.0000                    TO   \n14634  2022-08-12 2022-10-04  0600534-64.2022.6.27.0000                    TO   \n14635  2022-08-26 2022-09-21  0600951-17.2022.6.27.0000                    TO   \n14636  2022-08-12 2022-09-20  0600467-02.2022.6.27.0000                    TO   \n14637  2022-08-12 2022-09-20  0600467-02.2022.6.27.0000                    TO   \n\n       NR_INSTANCIA_ORIGEM  ... SG_CLASSE                DS_CLASSE  \\\n0                        0  ...     RCand  REGISTRO DE CANDIDATURA   \n1                        0  ...     RCand  REGISTRO DE CANDIDATURA   \n2                        0  ...     RCand  REGISTRO DE CANDIDATURA   \n3                        0  ...     RCand  REGISTRO DE CANDIDATURA   \n4                        0  ...     RCand  REGISTRO DE CANDIDATURA   \n...                    ...  ...       ...                      ...   \n14633                   27  ...     RCand  REGISTRO DE CANDIDATURA   \n14634                   27  ...     RCand  REGISTRO DE CANDIDATURA   \n14635                   27  ...     RCand  REGISTRO DE CANDIDATURA   \n14636                   27  ...     RCand  REGISTRO DE CANDIDATURA   \n14637                   27  ...     RCand  REGISTRO DE CANDIDATURA   \n\n      CD_ASSUNTO_PRINCIPAL                               DS_ASSUNTO_PRINCIPAL  \\\n0                  12044.0   Registro de Candidatura - DRAP Partido/Coligação   \n1                  12044.0   Registro de Candidatura - DRAP Partido/Coligação   \n2                  12044.0   Registro de Candidatura - DRAP Partido/Coligação   \n3                  12044.0   Registro de Candidatura - DRAP Partido/Coligação   \n4                  12044.0   Registro de Candidatura - DRAP Partido/Coligação   \n...                    ...                                                ...   \n14633              11618.0          Registro de Candidatura - RRC - Candidato   \n14634              11618.0          Registro de Candidatura - RRC - Candidato   \n14635              11621.0  Registro de Candidatura - Substituição de Cand...   \n14636              11618.0          Registro de Candidatura - RRC - Candidato   \n14637              11618.0          Registro de Candidatura - RRC - Candidato   \n\n              DS_TIPO_RECURSO  DS_NATUREZA_RECURSO ST_CONCLUSO  QT_DECISOES  \\\n0      Embargos de Declaração              Interno           0            4   \n1                  Impugnação              Interno           0            4   \n2                  Impugnação              Interno           0            4   \n3                  Impugnação              Interno           0            4   \n4                  Impugnação              Interno           0            4   \n...                       ...                  ...         ...          ...   \n14633              Impugnação              Interno           0            3   \n14634              Impugnação              Interno           0            3   \n14635   Agravo de Instrumento              Externo           0            1   \n14636              Impugnação              Interno           0            2   \n14637              Impugnação              Interno           0            2   \n\n      DT_ULTIMA_DECISAO  DS_ULTIMA_DECISAO  \n0             15-SEP-22                NaN  \n1             15-SEP-22                NaN  \n2             15-SEP-22                NaN  \n3             15-SEP-22                NaN  \n4             15-SEP-22                NaN  \n...                 ...                ...  \n14633         06-SEP-22                NaN  \n14634         06-SEP-22                NaN  \n14635         03-SEP-22                NaN  \n14636         05-SEP-22                NaN  \n14637         05-SEP-22                NaN  \n\n[14638 rows x 30 columns]",
      "text/html": "<div>\n<style scoped>\n    .dataframe tbody tr th:only-of-type {\n        vertical-align: middle;\n    }\n\n    .dataframe tbody tr th {\n        vertical-align: top;\n    }\n\n    .dataframe thead th {\n        text-align: right;\n    }\n</style>\n<table border=\"1\" class=\"dataframe\">\n  <thead>\n    <tr style=\"text-align: right;\">\n      <th></th>\n      <th>DT_GERACAO</th>\n      <th>HH_GERACAO</th>\n      <th>ANO_ELEICAO</th>\n      <th>DS_IDENTIFICACAO_RECURSO</th>\n      <th>NR_RECURSO</th>\n      <th>DT_AUTUACAO</th>\n      <th>DT_BAIXA</th>\n      <th>NR_PROCESSO_ORIGEM</th>\n      <th>SG_UF_TRIBUNAL_ORIGEM</th>\n      <th>NR_INSTANCIA_ORIGEM</th>\n      <th>...</th>\n      <th>SG_CLASSE</th>\n      <th>DS_CLASSE</th>\n      <th>CD_ASSUNTO_PRINCIPAL</th>\n      <th>DS_ASSUNTO_PRINCIPAL</th>\n      <th>DS_TIPO_RECURSO</th>\n      <th>DS_NATUREZA_RECURSO</th>\n      <th>ST_CONCLUSO</th>\n      <th>QT_DECISOES</th>\n      <th>DT_ULTIMA_DECISAO</th>\n      <th>DS_ULTIMA_DECISAO</th>\n    </tr>\n  </thead>\n  <tbody>\n    <tr>\n      <th>0</th>\n      <td>2023-11-10</td>\n      <td>05:04:58</td>\n      <td>2022</td>\n      <td>Processo</td>\n      <td>157983883</td>\n      <td>2022-08-06</td>\n      <td>2022-10-10</td>\n      <td>0600689-20.2022.6.00.0000</td>\n      <td>DF</td>\n      <td>0</td>\n      <td>...</td>\n      <td>RCand</td>\n      <td>REGISTRO DE CANDIDATURA</td>\n      <td>12044.0</td>\n      <td>Registro de Candidatura - DRAP Partido/Coligação</td>\n      <td>Embargos de Declaração</td>\n      <td>Interno</td>\n      <td>0</td>\n      <td>4</td>\n      <td>15-SEP-22</td>\n      <td>NaN</td>\n    </tr>\n    <tr>\n      <th>1</th>\n      <td>2023-11-10</td>\n      <td>05:04:58</td>\n      <td>2022</td>\n      <td>Processo</td>\n      <td>157983856</td>\n      <td>2022-08-06</td>\n      <td>2022-10-10</td>\n      <td>0600689-20.2022.6.00.0000</td>\n      <td>DF</td>\n      <td>0</td>\n      <td>...</td>\n      <td>RCand</td>\n      <td>REGISTRO DE CANDIDATURA</td>\n      <td>12044.0</td>\n      <td>Registro de Candidatura - DRAP Partido/Coligação</td>\n      <td>Impugnação</td>\n      <td>Interno</td>\n      <td>0</td>\n      <td>4</td>\n      <td>15-SEP-22</td>\n      <td>NaN</td>\n    </tr>\n    <tr>\n      <th>2</th>\n      <td>2023-11-10</td>\n      <td>05:04:58</td>\n      <td>2022</td>\n      <td>Processo</td>\n      <td>157980480</td>\n      <td>2022-08-06</td>\n      <td>2022-10-10</td>\n      <td>0600689-20.2022.6.00.0000</td>\n      <td>DF</td>\n      <td>0</td>\n      <td>...</td>\n      <td>RCand</td>\n      <td>REGISTRO DE CANDIDATURA</td>\n      <td>12044.0</td>\n      <td>Registro de Candidatura - DRAP Partido/Coligação</td>\n      <td>Impugnação</td>\n      <td>Interno</td>\n      <td>0</td>\n      <td>4</td>\n      <td>15-SEP-22</td>\n      <td>NaN</td>\n    </tr>\n    <tr>\n      <th>3</th>\n      <td>2023-11-10</td>\n      <td>05:04:58</td>\n      <td>2022</td>\n      <td>Processo</td>\n      <td>157980681</td>\n      <td>2022-08-06</td>\n      <td>2022-10-10</td>\n      <td>0600689-20.2022.6.00.0000</td>\n      <td>DF</td>\n      <td>0</td>\n      <td>...</td>\n      <td>RCand</td>\n      <td>REGISTRO DE CANDIDATURA</td>\n      <td>12044.0</td>\n      <td>Registro de Candidatura - DRAP Partido/Coligação</td>\n      <td>Impugnação</td>\n      <td>Interno</td>\n      <td>0</td>\n      <td>4</td>\n      <td>15-SEP-22</td>\n      <td>NaN</td>\n    </tr>\n    <tr>\n      <th>4</th>\n      <td>2023-11-10</td>\n      <td>05:04:58</td>\n      <td>2022</td>\n      <td>Processo</td>\n      <td>157980680</td>\n      <td>2022-08-06</td>\n      <td>2022-10-10</td>\n      <td>0600689-20.2022.6.00.0000</td>\n      <td>DF</td>\n      <td>0</td>\n      <td>...</td>\n      <td>RCand</td>\n      <td>REGISTRO DE CANDIDATURA</td>\n      <td>12044.0</td>\n      <td>Registro de Candidatura - DRAP Partido/Coligação</td>\n      <td>Impugnação</td>\n      <td>Interno</td>\n      <td>0</td>\n      <td>4</td>\n      <td>15-SEP-22</td>\n      <td>NaN</td>\n    </tr>\n    <tr>\n      <th>...</th>\n      <td>...</td>\n      <td>...</td>\n      <td>...</td>\n      <td>...</td>\n      <td>...</td>\n      <td>...</td>\n      <td>...</td>\n      <td>...</td>\n      <td>...</td>\n      <td>...</td>\n      <td>...</td>\n      <td>...</td>\n      <td>...</td>\n      <td>...</td>\n      <td>...</td>\n      <td>...</td>\n      <td>...</td>\n      <td>...</td>\n      <td>...</td>\n      <td>...</td>\n      <td>...</td>\n    </tr>\n    <tr>\n      <th>14633</th>\n      <td>2023-11-10</td>\n      <td>05:03:39</td>\n      <td>2022</td>\n      <td>Processo</td>\n      <td>9752761</td>\n      <td>2022-08-12</td>\n      <td>2022-10-04</td>\n      <td>0600534-64.2022.6.27.0000</td>\n      <td>TO</td>\n      <td>27</td>\n      <td>...</td>\n      <td>RCand</td>\n      <td>REGISTRO DE CANDIDATURA</td>\n      <td>11618.0</td>\n      <td>Registro de Candidatura - RRC - Candidato</td>\n      <td>Impugnação</td>\n      <td>Interno</td>\n      <td>0</td>\n      <td>3</td>\n      <td>06-SEP-22</td>\n      <td>NaN</td>\n    </tr>\n    <tr>\n      <th>14634</th>\n      <td>2023-11-10</td>\n      <td>05:03:39</td>\n      <td>2022</td>\n      <td>Processo</td>\n      <td>9752762</td>\n      <td>2022-08-12</td>\n      <td>2022-10-04</td>\n      <td>0600534-64.2022.6.27.0000</td>\n      <td>TO</td>\n      <td>27</td>\n      <td>...</td>\n      <td>RCand</td>\n      <td>REGISTRO DE CANDIDATURA</td>\n      <td>11618.0</td>\n      <td>Registro de Candidatura - RRC - Candidato</td>\n      <td>Impugnação</td>\n      <td>Interno</td>\n      <td>0</td>\n      <td>3</td>\n      <td>06-SEP-22</td>\n      <td>NaN</td>\n    </tr>\n    <tr>\n      <th>14635</th>\n      <td>2023-11-10</td>\n      <td>05:03:39</td>\n      <td>2022</td>\n      <td>Processo</td>\n      <td>9760627</td>\n      <td>2022-08-26</td>\n      <td>2022-09-21</td>\n      <td>0600951-17.2022.6.27.0000</td>\n      <td>TO</td>\n      <td>27</td>\n      <td>...</td>\n      <td>RCand</td>\n      <td>REGISTRO DE CANDIDATURA</td>\n      <td>11621.0</td>\n      <td>Registro de Candidatura - Substituição de Cand...</td>\n      <td>Agravo de Instrumento</td>\n      <td>Externo</td>\n      <td>0</td>\n      <td>1</td>\n      <td>03-SEP-22</td>\n      <td>NaN</td>\n    </tr>\n    <tr>\n      <th>14636</th>\n      <td>2023-11-10</td>\n      <td>05:03:39</td>\n      <td>2022</td>\n      <td>Processo</td>\n      <td>9752391</td>\n      <td>2022-08-12</td>\n      <td>2022-09-20</td>\n      <td>0600467-02.2022.6.27.0000</td>\n      <td>TO</td>\n      <td>27</td>\n      <td>...</td>\n      <td>RCand</td>\n      <td>REGISTRO DE CANDIDATURA</td>\n      <td>11618.0</td>\n      <td>Registro de Candidatura - RRC - Candidato</td>\n      <td>Impugnação</td>\n      <td>Interno</td>\n      <td>0</td>\n      <td>2</td>\n      <td>05-SEP-22</td>\n      <td>NaN</td>\n    </tr>\n    <tr>\n      <th>14637</th>\n      <td>2023-11-10</td>\n      <td>05:03:39</td>\n      <td>2022</td>\n      <td>Processo</td>\n      <td>9752392</td>\n      <td>2022-08-12</td>\n      <td>2022-09-20</td>\n      <td>0600467-02.2022.6.27.0000</td>\n      <td>TO</td>\n      <td>27</td>\n      <td>...</td>\n      <td>RCand</td>\n      <td>REGISTRO DE CANDIDATURA</td>\n      <td>11618.0</td>\n      <td>Registro de Candidatura - RRC - Candidato</td>\n      <td>Impugnação</td>\n      <td>Interno</td>\n      <td>0</td>\n      <td>2</td>\n      <td>05-SEP-22</td>\n      <td>NaN</td>\n    </tr>\n  </tbody>\n</table>\n<p>14638 rows × 30 columns</p>\n</div>"
     },
     "execution_count": 39,
     "metadata": {},
     "output_type": "execute_result"
    }
   ],
   "source": [
    "recurso"
   ],
   "metadata": {
    "collapsed": false,
    "ExecuteTime": {
     "end_time": "2023-12-04T19:06:56.830834300Z",
     "start_time": "2023-12-04T19:06:56.669861800Z"
    }
   },
   "id": "7cde9fea5c1702fa"
  },
  {
   "cell_type": "code",
   "execution_count": 42,
   "outputs": [],
   "source": [
    "natureza=recurso[['DS_NATUREZA_RECURSO']]"
   ],
   "metadata": {
    "collapsed": false,
    "ExecuteTime": {
     "end_time": "2023-12-04T19:08:51.637991100Z",
     "start_time": "2023-12-04T19:08:51.540098100Z"
    }
   },
   "id": "9cbfd3754b0c185b"
  },
  {
   "cell_type": "code",
   "execution_count": 43,
   "outputs": [
    {
     "data": {
      "text/plain": "      DS_NATUREZA_RECURSO\n0                 Interno\n1                 Interno\n2                 Interno\n3                 Interno\n4                 Interno\n...                   ...\n14633             Interno\n14634             Interno\n14635             Externo\n14636             Interno\n14637             Interno\n\n[14638 rows x 1 columns]",
      "text/html": "<div>\n<style scoped>\n    .dataframe tbody tr th:only-of-type {\n        vertical-align: middle;\n    }\n\n    .dataframe tbody tr th {\n        vertical-align: top;\n    }\n\n    .dataframe thead th {\n        text-align: right;\n    }\n</style>\n<table border=\"1\" class=\"dataframe\">\n  <thead>\n    <tr style=\"text-align: right;\">\n      <th></th>\n      <th>DS_NATUREZA_RECURSO</th>\n    </tr>\n  </thead>\n  <tbody>\n    <tr>\n      <th>0</th>\n      <td>Interno</td>\n    </tr>\n    <tr>\n      <th>1</th>\n      <td>Interno</td>\n    </tr>\n    <tr>\n      <th>2</th>\n      <td>Interno</td>\n    </tr>\n    <tr>\n      <th>3</th>\n      <td>Interno</td>\n    </tr>\n    <tr>\n      <th>4</th>\n      <td>Interno</td>\n    </tr>\n    <tr>\n      <th>...</th>\n      <td>...</td>\n    </tr>\n    <tr>\n      <th>14633</th>\n      <td>Interno</td>\n    </tr>\n    <tr>\n      <th>14634</th>\n      <td>Interno</td>\n    </tr>\n    <tr>\n      <th>14635</th>\n      <td>Externo</td>\n    </tr>\n    <tr>\n      <th>14636</th>\n      <td>Interno</td>\n    </tr>\n    <tr>\n      <th>14637</th>\n      <td>Interno</td>\n    </tr>\n  </tbody>\n</table>\n<p>14638 rows × 1 columns</p>\n</div>"
     },
     "execution_count": 43,
     "metadata": {},
     "output_type": "execute_result"
    }
   ],
   "source": [
    "natureza\n"
   ],
   "metadata": {
    "collapsed": false,
    "ExecuteTime": {
     "end_time": "2023-12-04T19:08:55.823674200Z",
     "start_time": "2023-12-04T19:08:55.662489100Z"
    }
   },
   "id": "8bba77bcc6da2b0e"
  },
  {
   "cell_type": "code",
   "execution_count": 44,
   "outputs": [
    {
     "data": {
      "text/plain": "   DS_NATUREZA_RECURSO\n0              Interno\n42             Externo",
      "text/html": "<div>\n<style scoped>\n    .dataframe tbody tr th:only-of-type {\n        vertical-align: middle;\n    }\n\n    .dataframe tbody tr th {\n        vertical-align: top;\n    }\n\n    .dataframe thead th {\n        text-align: right;\n    }\n</style>\n<table border=\"1\" class=\"dataframe\">\n  <thead>\n    <tr style=\"text-align: right;\">\n      <th></th>\n      <th>DS_NATUREZA_RECURSO</th>\n    </tr>\n  </thead>\n  <tbody>\n    <tr>\n      <th>0</th>\n      <td>Interno</td>\n    </tr>\n    <tr>\n      <th>42</th>\n      <td>Externo</td>\n    </tr>\n  </tbody>\n</table>\n</div>"
     },
     "execution_count": 44,
     "metadata": {},
     "output_type": "execute_result"
    }
   ],
   "source": [
    "natureza.drop_duplicates('DS_NATUREZA_RECURSO')"
   ],
   "metadata": {
    "collapsed": false,
    "ExecuteTime": {
     "end_time": "2023-12-04T19:09:09.193409600Z",
     "start_time": "2023-12-04T19:09:09.041621200Z"
    }
   },
   "id": "bd5b8c2584b3be0c"
  },
  {
   "cell_type": "code",
   "execution_count": 47,
   "outputs": [],
   "source": [
    "natureza.loc[:,'idnatureza']=natureza.index+1"
   ],
   "metadata": {
    "collapsed": false,
    "ExecuteTime": {
     "end_time": "2023-12-04T19:10:58.396171800Z",
     "start_time": "2023-12-04T19:10:58.267700Z"
    }
   },
   "id": "cc3bac276932b78e"
  },
  {
   "cell_type": "code",
   "execution_count": 48,
   "outputs": [
    {
     "data": {
      "text/plain": "      DS_NATUREZA_RECURSO  idnatureza\n0                 Interno           1\n1                 Interno           2\n2                 Interno           3\n3                 Interno           4\n4                 Interno           5\n...                   ...         ...\n14633             Interno       14634\n14634             Interno       14635\n14635             Externo       14636\n14636             Interno       14637\n14637             Interno       14638\n\n[14638 rows x 2 columns]",
      "text/html": "<div>\n<style scoped>\n    .dataframe tbody tr th:only-of-type {\n        vertical-align: middle;\n    }\n\n    .dataframe tbody tr th {\n        vertical-align: top;\n    }\n\n    .dataframe thead th {\n        text-align: right;\n    }\n</style>\n<table border=\"1\" class=\"dataframe\">\n  <thead>\n    <tr style=\"text-align: right;\">\n      <th></th>\n      <th>DS_NATUREZA_RECURSO</th>\n      <th>idnatureza</th>\n    </tr>\n  </thead>\n  <tbody>\n    <tr>\n      <th>0</th>\n      <td>Interno</td>\n      <td>1</td>\n    </tr>\n    <tr>\n      <th>1</th>\n      <td>Interno</td>\n      <td>2</td>\n    </tr>\n    <tr>\n      <th>2</th>\n      <td>Interno</td>\n      <td>3</td>\n    </tr>\n    <tr>\n      <th>3</th>\n      <td>Interno</td>\n      <td>4</td>\n    </tr>\n    <tr>\n      <th>4</th>\n      <td>Interno</td>\n      <td>5</td>\n    </tr>\n    <tr>\n      <th>...</th>\n      <td>...</td>\n      <td>...</td>\n    </tr>\n    <tr>\n      <th>14633</th>\n      <td>Interno</td>\n      <td>14634</td>\n    </tr>\n    <tr>\n      <th>14634</th>\n      <td>Interno</td>\n      <td>14635</td>\n    </tr>\n    <tr>\n      <th>14635</th>\n      <td>Externo</td>\n      <td>14636</td>\n    </tr>\n    <tr>\n      <th>14636</th>\n      <td>Interno</td>\n      <td>14637</td>\n    </tr>\n    <tr>\n      <th>14637</th>\n      <td>Interno</td>\n      <td>14638</td>\n    </tr>\n  </tbody>\n</table>\n<p>14638 rows × 2 columns</p>\n</div>"
     },
     "execution_count": 48,
     "metadata": {},
     "output_type": "execute_result"
    }
   ],
   "source": [
    "natureza"
   ],
   "metadata": {
    "collapsed": false,
    "ExecuteTime": {
     "end_time": "2023-12-04T19:11:05.591564400Z",
     "start_time": "2023-12-04T19:11:05.501134700Z"
    }
   },
   "id": "38f7ec386bf2c16c"
  },
  {
   "cell_type": "code",
   "execution_count": 49,
   "outputs": [
    {
     "data": {
      "text/plain": "   DS_NATUREZA_RECURSO  idnatureza\n0              Interno           1\n42             Externo          43",
      "text/html": "<div>\n<style scoped>\n    .dataframe tbody tr th:only-of-type {\n        vertical-align: middle;\n    }\n\n    .dataframe tbody tr th {\n        vertical-align: top;\n    }\n\n    .dataframe thead th {\n        text-align: right;\n    }\n</style>\n<table border=\"1\" class=\"dataframe\">\n  <thead>\n    <tr style=\"text-align: right;\">\n      <th></th>\n      <th>DS_NATUREZA_RECURSO</th>\n      <th>idnatureza</th>\n    </tr>\n  </thead>\n  <tbody>\n    <tr>\n      <th>0</th>\n      <td>Interno</td>\n      <td>1</td>\n    </tr>\n    <tr>\n      <th>42</th>\n      <td>Externo</td>\n      <td>43</td>\n    </tr>\n  </tbody>\n</table>\n</div>"
     },
     "execution_count": 49,
     "metadata": {},
     "output_type": "execute_result"
    }
   ],
   "source": [
    "natureza.drop_duplicates('DS_NATUREZA_RECURSO')"
   ],
   "metadata": {
    "collapsed": false,
    "ExecuteTime": {
     "end_time": "2023-12-04T19:11:20.981029700Z",
     "start_time": "2023-12-04T19:11:20.692994500Z"
    }
   },
   "id": "46ed5ca7fd7cada7"
  },
  {
   "cell_type": "code",
   "execution_count": 52,
   "outputs": [],
   "source": [
    "naturezalimpa = natureza.drop_duplicates('DS_NATUREZA_RECURSO')"
   ],
   "metadata": {
    "collapsed": false,
    "ExecuteTime": {
     "end_time": "2023-12-04T19:15:05.652730100Z",
     "start_time": "2023-12-04T19:15:05.497516400Z"
    }
   },
   "id": "a8f25e9bcf815bab"
  },
  {
   "cell_type": "code",
   "execution_count": 53,
   "outputs": [
    {
     "data": {
      "text/plain": "   DS_NATUREZA_RECURSO  idnatureza\n0              Interno           1\n42             Externo          43",
      "text/html": "<div>\n<style scoped>\n    .dataframe tbody tr th:only-of-type {\n        vertical-align: middle;\n    }\n\n    .dataframe tbody tr th {\n        vertical-align: top;\n    }\n\n    .dataframe thead th {\n        text-align: right;\n    }\n</style>\n<table border=\"1\" class=\"dataframe\">\n  <thead>\n    <tr style=\"text-align: right;\">\n      <th></th>\n      <th>DS_NATUREZA_RECURSO</th>\n      <th>idnatureza</th>\n    </tr>\n  </thead>\n  <tbody>\n    <tr>\n      <th>0</th>\n      <td>Interno</td>\n      <td>1</td>\n    </tr>\n    <tr>\n      <th>42</th>\n      <td>Externo</td>\n      <td>43</td>\n    </tr>\n  </tbody>\n</table>\n</div>"
     },
     "execution_count": 53,
     "metadata": {},
     "output_type": "execute_result"
    }
   ],
   "source": [
    "naturezalimpa"
   ],
   "metadata": {
    "collapsed": false,
    "ExecuteTime": {
     "end_time": "2023-12-04T19:15:10.275377200Z",
     "start_time": "2023-12-04T19:15:10.155806200Z"
    }
   },
   "id": "cf0147c3c35399e4"
  },
  {
   "cell_type": "code",
   "execution_count": 54,
   "outputs": [
    {
     "data": {
      "text/plain": "   DS_NATUREZA_RECURSO  idnatureza\n0              Interno           1\n42             Externo          43",
      "text/html": "<div>\n<style scoped>\n    .dataframe tbody tr th:only-of-type {\n        vertical-align: middle;\n    }\n\n    .dataframe tbody tr th {\n        vertical-align: top;\n    }\n\n    .dataframe thead th {\n        text-align: right;\n    }\n</style>\n<table border=\"1\" class=\"dataframe\">\n  <thead>\n    <tr style=\"text-align: right;\">\n      <th></th>\n      <th>DS_NATUREZA_RECURSO</th>\n      <th>idnatureza</th>\n    </tr>\n  </thead>\n  <tbody>\n    <tr>\n      <th>0</th>\n      <td>Interno</td>\n      <td>1</td>\n    </tr>\n    <tr>\n      <th>42</th>\n      <td>Externo</td>\n      <td>43</td>\n    </tr>\n  </tbody>\n</table>\n</div>"
     },
     "execution_count": 54,
     "metadata": {},
     "output_type": "execute_result"
    }
   ],
   "source": [
    "naturezalimpa"
   ],
   "metadata": {
    "collapsed": false,
    "ExecuteTime": {
     "end_time": "2023-12-04T19:17:32.208046900Z",
     "start_time": "2023-12-04T19:17:32.029800100Z"
    }
   },
   "id": "160550274ae25a45"
  },
  {
   "cell_type": "markdown",
   "source": [],
   "metadata": {
    "collapsed": false
   },
   "id": "d9f0b9ba1e2b1fb9"
  },
  {
   "cell_type": "code",
   "execution_count": 55,
   "outputs": [],
   "source": [
    "naturezalimpa.to_csv('natureza.csv',index =False)"
   ],
   "metadata": {
    "collapsed": false,
    "ExecuteTime": {
     "end_time": "2023-12-04T19:17:55.442820900Z",
     "start_time": "2023-12-04T19:17:55.365922900Z"
    }
   },
   "id": "a53aa705e261494e"
  },
  {
   "cell_type": "code",
   "execution_count": 56,
   "outputs": [
    {
     "data": {
      "text/plain": "      DT_GERACAO HH_GERACAO  ANO_ELEICAO DS_IDENTIFICACAO_RECURSO  NR_RECURSO  \\\n0     2023-11-10   05:04:58         2022                 Processo   157983883   \n1     2023-11-10   05:04:58         2022                 Processo   157983856   \n2     2023-11-10   05:04:58         2022                 Processo   157980480   \n3     2023-11-10   05:04:58         2022                 Processo   157980681   \n4     2023-11-10   05:04:58         2022                 Processo   157980680   \n...          ...        ...          ...                      ...         ...   \n14633 2023-11-10   05:03:39         2022                 Processo     9752761   \n14634 2023-11-10   05:03:39         2022                 Processo     9752762   \n14635 2023-11-10   05:03:39         2022                 Processo     9760627   \n14636 2023-11-10   05:03:39         2022                 Processo     9752391   \n14637 2023-11-10   05:03:39         2022                 Processo     9752392   \n\n      DT_AUTUACAO   DT_BAIXA         NR_PROCESSO_ORIGEM SG_UF_TRIBUNAL_ORIGEM  \\\n0      2022-08-06 2022-10-10  0600689-20.2022.6.00.0000                    DF   \n1      2022-08-06 2022-10-10  0600689-20.2022.6.00.0000                    DF   \n2      2022-08-06 2022-10-10  0600689-20.2022.6.00.0000                    DF   \n3      2022-08-06 2022-10-10  0600689-20.2022.6.00.0000                    DF   \n4      2022-08-06 2022-10-10  0600689-20.2022.6.00.0000                    DF   \n...           ...        ...                        ...                   ...   \n14633  2022-08-12 2022-10-04  0600534-64.2022.6.27.0000                    TO   \n14634  2022-08-12 2022-10-04  0600534-64.2022.6.27.0000                    TO   \n14635  2022-08-26 2022-09-21  0600951-17.2022.6.27.0000                    TO   \n14636  2022-08-12 2022-09-20  0600467-02.2022.6.27.0000                    TO   \n14637  2022-08-12 2022-09-20  0600467-02.2022.6.27.0000                    TO   \n\n       NR_INSTANCIA_ORIGEM  ... SG_CLASSE                DS_CLASSE  \\\n0                        0  ...     RCand  REGISTRO DE CANDIDATURA   \n1                        0  ...     RCand  REGISTRO DE CANDIDATURA   \n2                        0  ...     RCand  REGISTRO DE CANDIDATURA   \n3                        0  ...     RCand  REGISTRO DE CANDIDATURA   \n4                        0  ...     RCand  REGISTRO DE CANDIDATURA   \n...                    ...  ...       ...                      ...   \n14633                   27  ...     RCand  REGISTRO DE CANDIDATURA   \n14634                   27  ...     RCand  REGISTRO DE CANDIDATURA   \n14635                   27  ...     RCand  REGISTRO DE CANDIDATURA   \n14636                   27  ...     RCand  REGISTRO DE CANDIDATURA   \n14637                   27  ...     RCand  REGISTRO DE CANDIDATURA   \n\n      CD_ASSUNTO_PRINCIPAL                               DS_ASSUNTO_PRINCIPAL  \\\n0                  12044.0   Registro de Candidatura - DRAP Partido/Coligação   \n1                  12044.0   Registro de Candidatura - DRAP Partido/Coligação   \n2                  12044.0   Registro de Candidatura - DRAP Partido/Coligação   \n3                  12044.0   Registro de Candidatura - DRAP Partido/Coligação   \n4                  12044.0   Registro de Candidatura - DRAP Partido/Coligação   \n...                    ...                                                ...   \n14633              11618.0          Registro de Candidatura - RRC - Candidato   \n14634              11618.0          Registro de Candidatura - RRC - Candidato   \n14635              11621.0  Registro de Candidatura - Substituição de Cand...   \n14636              11618.0          Registro de Candidatura - RRC - Candidato   \n14637              11618.0          Registro de Candidatura - RRC - Candidato   \n\n              DS_TIPO_RECURSO  DS_NATUREZA_RECURSO ST_CONCLUSO  QT_DECISOES  \\\n0      Embargos de Declaração              Interno           0            4   \n1                  Impugnação              Interno           0            4   \n2                  Impugnação              Interno           0            4   \n3                  Impugnação              Interno           0            4   \n4                  Impugnação              Interno           0            4   \n...                       ...                  ...         ...          ...   \n14633              Impugnação              Interno           0            3   \n14634              Impugnação              Interno           0            3   \n14635   Agravo de Instrumento              Externo           0            1   \n14636              Impugnação              Interno           0            2   \n14637              Impugnação              Interno           0            2   \n\n      DT_ULTIMA_DECISAO  DS_ULTIMA_DECISAO  \n0             15-SEP-22                NaN  \n1             15-SEP-22                NaN  \n2             15-SEP-22                NaN  \n3             15-SEP-22                NaN  \n4             15-SEP-22                NaN  \n...                 ...                ...  \n14633         06-SEP-22                NaN  \n14634         06-SEP-22                NaN  \n14635         03-SEP-22                NaN  \n14636         05-SEP-22                NaN  \n14637         05-SEP-22                NaN  \n\n[14638 rows x 30 columns]",
      "text/html": "<div>\n<style scoped>\n    .dataframe tbody tr th:only-of-type {\n        vertical-align: middle;\n    }\n\n    .dataframe tbody tr th {\n        vertical-align: top;\n    }\n\n    .dataframe thead th {\n        text-align: right;\n    }\n</style>\n<table border=\"1\" class=\"dataframe\">\n  <thead>\n    <tr style=\"text-align: right;\">\n      <th></th>\n      <th>DT_GERACAO</th>\n      <th>HH_GERACAO</th>\n      <th>ANO_ELEICAO</th>\n      <th>DS_IDENTIFICACAO_RECURSO</th>\n      <th>NR_RECURSO</th>\n      <th>DT_AUTUACAO</th>\n      <th>DT_BAIXA</th>\n      <th>NR_PROCESSO_ORIGEM</th>\n      <th>SG_UF_TRIBUNAL_ORIGEM</th>\n      <th>NR_INSTANCIA_ORIGEM</th>\n      <th>...</th>\n      <th>SG_CLASSE</th>\n      <th>DS_CLASSE</th>\n      <th>CD_ASSUNTO_PRINCIPAL</th>\n      <th>DS_ASSUNTO_PRINCIPAL</th>\n      <th>DS_TIPO_RECURSO</th>\n      <th>DS_NATUREZA_RECURSO</th>\n      <th>ST_CONCLUSO</th>\n      <th>QT_DECISOES</th>\n      <th>DT_ULTIMA_DECISAO</th>\n      <th>DS_ULTIMA_DECISAO</th>\n    </tr>\n  </thead>\n  <tbody>\n    <tr>\n      <th>0</th>\n      <td>2023-11-10</td>\n      <td>05:04:58</td>\n      <td>2022</td>\n      <td>Processo</td>\n      <td>157983883</td>\n      <td>2022-08-06</td>\n      <td>2022-10-10</td>\n      <td>0600689-20.2022.6.00.0000</td>\n      <td>DF</td>\n      <td>0</td>\n      <td>...</td>\n      <td>RCand</td>\n      <td>REGISTRO DE CANDIDATURA</td>\n      <td>12044.0</td>\n      <td>Registro de Candidatura - DRAP Partido/Coligação</td>\n      <td>Embargos de Declaração</td>\n      <td>Interno</td>\n      <td>0</td>\n      <td>4</td>\n      <td>15-SEP-22</td>\n      <td>NaN</td>\n    </tr>\n    <tr>\n      <th>1</th>\n      <td>2023-11-10</td>\n      <td>05:04:58</td>\n      <td>2022</td>\n      <td>Processo</td>\n      <td>157983856</td>\n      <td>2022-08-06</td>\n      <td>2022-10-10</td>\n      <td>0600689-20.2022.6.00.0000</td>\n      <td>DF</td>\n      <td>0</td>\n      <td>...</td>\n      <td>RCand</td>\n      <td>REGISTRO DE CANDIDATURA</td>\n      <td>12044.0</td>\n      <td>Registro de Candidatura - DRAP Partido/Coligação</td>\n      <td>Impugnação</td>\n      <td>Interno</td>\n      <td>0</td>\n      <td>4</td>\n      <td>15-SEP-22</td>\n      <td>NaN</td>\n    </tr>\n    <tr>\n      <th>2</th>\n      <td>2023-11-10</td>\n      <td>05:04:58</td>\n      <td>2022</td>\n      <td>Processo</td>\n      <td>157980480</td>\n      <td>2022-08-06</td>\n      <td>2022-10-10</td>\n      <td>0600689-20.2022.6.00.0000</td>\n      <td>DF</td>\n      <td>0</td>\n      <td>...</td>\n      <td>RCand</td>\n      <td>REGISTRO DE CANDIDATURA</td>\n      <td>12044.0</td>\n      <td>Registro de Candidatura - DRAP Partido/Coligação</td>\n      <td>Impugnação</td>\n      <td>Interno</td>\n      <td>0</td>\n      <td>4</td>\n      <td>15-SEP-22</td>\n      <td>NaN</td>\n    </tr>\n    <tr>\n      <th>3</th>\n      <td>2023-11-10</td>\n      <td>05:04:58</td>\n      <td>2022</td>\n      <td>Processo</td>\n      <td>157980681</td>\n      <td>2022-08-06</td>\n      <td>2022-10-10</td>\n      <td>0600689-20.2022.6.00.0000</td>\n      <td>DF</td>\n      <td>0</td>\n      <td>...</td>\n      <td>RCand</td>\n      <td>REGISTRO DE CANDIDATURA</td>\n      <td>12044.0</td>\n      <td>Registro de Candidatura - DRAP Partido/Coligação</td>\n      <td>Impugnação</td>\n      <td>Interno</td>\n      <td>0</td>\n      <td>4</td>\n      <td>15-SEP-22</td>\n      <td>NaN</td>\n    </tr>\n    <tr>\n      <th>4</th>\n      <td>2023-11-10</td>\n      <td>05:04:58</td>\n      <td>2022</td>\n      <td>Processo</td>\n      <td>157980680</td>\n      <td>2022-08-06</td>\n      <td>2022-10-10</td>\n      <td>0600689-20.2022.6.00.0000</td>\n      <td>DF</td>\n      <td>0</td>\n      <td>...</td>\n      <td>RCand</td>\n      <td>REGISTRO DE CANDIDATURA</td>\n      <td>12044.0</td>\n      <td>Registro de Candidatura - DRAP Partido/Coligação</td>\n      <td>Impugnação</td>\n      <td>Interno</td>\n      <td>0</td>\n      <td>4</td>\n      <td>15-SEP-22</td>\n      <td>NaN</td>\n    </tr>\n    <tr>\n      <th>...</th>\n      <td>...</td>\n      <td>...</td>\n      <td>...</td>\n      <td>...</td>\n      <td>...</td>\n      <td>...</td>\n      <td>...</td>\n      <td>...</td>\n      <td>...</td>\n      <td>...</td>\n      <td>...</td>\n      <td>...</td>\n      <td>...</td>\n      <td>...</td>\n      <td>...</td>\n      <td>...</td>\n      <td>...</td>\n      <td>...</td>\n      <td>...</td>\n      <td>...</td>\n      <td>...</td>\n    </tr>\n    <tr>\n      <th>14633</th>\n      <td>2023-11-10</td>\n      <td>05:03:39</td>\n      <td>2022</td>\n      <td>Processo</td>\n      <td>9752761</td>\n      <td>2022-08-12</td>\n      <td>2022-10-04</td>\n      <td>0600534-64.2022.6.27.0000</td>\n      <td>TO</td>\n      <td>27</td>\n      <td>...</td>\n      <td>RCand</td>\n      <td>REGISTRO DE CANDIDATURA</td>\n      <td>11618.0</td>\n      <td>Registro de Candidatura - RRC - Candidato</td>\n      <td>Impugnação</td>\n      <td>Interno</td>\n      <td>0</td>\n      <td>3</td>\n      <td>06-SEP-22</td>\n      <td>NaN</td>\n    </tr>\n    <tr>\n      <th>14634</th>\n      <td>2023-11-10</td>\n      <td>05:03:39</td>\n      <td>2022</td>\n      <td>Processo</td>\n      <td>9752762</td>\n      <td>2022-08-12</td>\n      <td>2022-10-04</td>\n      <td>0600534-64.2022.6.27.0000</td>\n      <td>TO</td>\n      <td>27</td>\n      <td>...</td>\n      <td>RCand</td>\n      <td>REGISTRO DE CANDIDATURA</td>\n      <td>11618.0</td>\n      <td>Registro de Candidatura - RRC - Candidato</td>\n      <td>Impugnação</td>\n      <td>Interno</td>\n      <td>0</td>\n      <td>3</td>\n      <td>06-SEP-22</td>\n      <td>NaN</td>\n    </tr>\n    <tr>\n      <th>14635</th>\n      <td>2023-11-10</td>\n      <td>05:03:39</td>\n      <td>2022</td>\n      <td>Processo</td>\n      <td>9760627</td>\n      <td>2022-08-26</td>\n      <td>2022-09-21</td>\n      <td>0600951-17.2022.6.27.0000</td>\n      <td>TO</td>\n      <td>27</td>\n      <td>...</td>\n      <td>RCand</td>\n      <td>REGISTRO DE CANDIDATURA</td>\n      <td>11621.0</td>\n      <td>Registro de Candidatura - Substituição de Cand...</td>\n      <td>Agravo de Instrumento</td>\n      <td>Externo</td>\n      <td>0</td>\n      <td>1</td>\n      <td>03-SEP-22</td>\n      <td>NaN</td>\n    </tr>\n    <tr>\n      <th>14636</th>\n      <td>2023-11-10</td>\n      <td>05:03:39</td>\n      <td>2022</td>\n      <td>Processo</td>\n      <td>9752391</td>\n      <td>2022-08-12</td>\n      <td>2022-09-20</td>\n      <td>0600467-02.2022.6.27.0000</td>\n      <td>TO</td>\n      <td>27</td>\n      <td>...</td>\n      <td>RCand</td>\n      <td>REGISTRO DE CANDIDATURA</td>\n      <td>11618.0</td>\n      <td>Registro de Candidatura - RRC - Candidato</td>\n      <td>Impugnação</td>\n      <td>Interno</td>\n      <td>0</td>\n      <td>2</td>\n      <td>05-SEP-22</td>\n      <td>NaN</td>\n    </tr>\n    <tr>\n      <th>14637</th>\n      <td>2023-11-10</td>\n      <td>05:03:39</td>\n      <td>2022</td>\n      <td>Processo</td>\n      <td>9752392</td>\n      <td>2022-08-12</td>\n      <td>2022-09-20</td>\n      <td>0600467-02.2022.6.27.0000</td>\n      <td>TO</td>\n      <td>27</td>\n      <td>...</td>\n      <td>RCand</td>\n      <td>REGISTRO DE CANDIDATURA</td>\n      <td>11618.0</td>\n      <td>Registro de Candidatura - RRC - Candidato</td>\n      <td>Impugnação</td>\n      <td>Interno</td>\n      <td>0</td>\n      <td>2</td>\n      <td>05-SEP-22</td>\n      <td>NaN</td>\n    </tr>\n  </tbody>\n</table>\n<p>14638 rows × 30 columns</p>\n</div>"
     },
     "execution_count": 56,
     "metadata": {},
     "output_type": "execute_result"
    }
   ],
   "source": [
    "recurso"
   ],
   "metadata": {
    "collapsed": false,
    "ExecuteTime": {
     "end_time": "2023-12-04T19:19:44.635766300Z",
     "start_time": "2023-12-04T19:19:44.425785500Z"
    }
   },
   "id": "3fd1aba8b648d49c"
  },
  {
   "cell_type": "code",
   "execution_count": 58,
   "outputs": [],
   "source": [
    "recurso=recurso[['DS_IDENTIFICACAO_RECURSO','DT_AUTUACAO','DT_BAIXA','SG_UF_TRIBUNAL_ORIGEM','SG_UF_TRIBUNAL','NR_INSTANCIA_ORIGEM','NR_INSTANCIA','DT_DISTRIBUICAO']]\n"
   ],
   "metadata": {
    "collapsed": false,
    "ExecuteTime": {
     "end_time": "2023-12-04T19:24:24.014561800Z",
     "start_time": "2023-12-04T19:24:23.891465200Z"
    }
   },
   "id": "1ac5f01214dcbdbc"
  },
  {
   "cell_type": "code",
   "execution_count": 59,
   "outputs": [
    {
     "data": {
      "text/plain": "      DS_IDENTIFICACAO_RECURSO DT_AUTUACAO   DT_BAIXA SG_UF_TRIBUNAL_ORIGEM  \\\n0                     Processo  2022-08-06 2022-10-10                    DF   \n1                     Processo  2022-08-06 2022-10-10                    DF   \n2                     Processo  2022-08-06 2022-10-10                    DF   \n3                     Processo  2022-08-06 2022-10-10                    DF   \n4                     Processo  2022-08-06 2022-10-10                    DF   \n...                        ...         ...        ...                   ...   \n14633                 Processo  2022-08-12 2022-10-04                    TO   \n14634                 Processo  2022-08-12 2022-10-04                    TO   \n14635                 Processo  2022-08-26 2022-09-21                    TO   \n14636                 Processo  2022-08-12 2022-09-20                    TO   \n14637                 Processo  2022-08-12 2022-09-20                    TO   \n\n      SG_UF_TRIBUNAL  NR_INSTANCIA_ORIGEM  NR_INSTANCIA DT_DISTRIBUICAO  \n0                 DF                    0             3      2022-08-06  \n1                 DF                    0             3      2022-08-06  \n2                 DF                    0             3      2022-08-06  \n3                 DF                    0             3      2022-08-06  \n4                 DF                    0             3      2022-08-06  \n...              ...                  ...           ...             ...  \n14633             TO                   27             2      2022-08-21  \n14634             TO                   27             2      2022-08-21  \n14635             TO                   27             2      2022-08-26  \n14636             TO                   27             2      2022-08-12  \n14637             TO                   27             2      2022-08-12  \n\n[14638 rows x 8 columns]",
      "text/html": "<div>\n<style scoped>\n    .dataframe tbody tr th:only-of-type {\n        vertical-align: middle;\n    }\n\n    .dataframe tbody tr th {\n        vertical-align: top;\n    }\n\n    .dataframe thead th {\n        text-align: right;\n    }\n</style>\n<table border=\"1\" class=\"dataframe\">\n  <thead>\n    <tr style=\"text-align: right;\">\n      <th></th>\n      <th>DS_IDENTIFICACAO_RECURSO</th>\n      <th>DT_AUTUACAO</th>\n      <th>DT_BAIXA</th>\n      <th>SG_UF_TRIBUNAL_ORIGEM</th>\n      <th>SG_UF_TRIBUNAL</th>\n      <th>NR_INSTANCIA_ORIGEM</th>\n      <th>NR_INSTANCIA</th>\n      <th>DT_DISTRIBUICAO</th>\n    </tr>\n  </thead>\n  <tbody>\n    <tr>\n      <th>0</th>\n      <td>Processo</td>\n      <td>2022-08-06</td>\n      <td>2022-10-10</td>\n      <td>DF</td>\n      <td>DF</td>\n      <td>0</td>\n      <td>3</td>\n      <td>2022-08-06</td>\n    </tr>\n    <tr>\n      <th>1</th>\n      <td>Processo</td>\n      <td>2022-08-06</td>\n      <td>2022-10-10</td>\n      <td>DF</td>\n      <td>DF</td>\n      <td>0</td>\n      <td>3</td>\n      <td>2022-08-06</td>\n    </tr>\n    <tr>\n      <th>2</th>\n      <td>Processo</td>\n      <td>2022-08-06</td>\n      <td>2022-10-10</td>\n      <td>DF</td>\n      <td>DF</td>\n      <td>0</td>\n      <td>3</td>\n      <td>2022-08-06</td>\n    </tr>\n    <tr>\n      <th>3</th>\n      <td>Processo</td>\n      <td>2022-08-06</td>\n      <td>2022-10-10</td>\n      <td>DF</td>\n      <td>DF</td>\n      <td>0</td>\n      <td>3</td>\n      <td>2022-08-06</td>\n    </tr>\n    <tr>\n      <th>4</th>\n      <td>Processo</td>\n      <td>2022-08-06</td>\n      <td>2022-10-10</td>\n      <td>DF</td>\n      <td>DF</td>\n      <td>0</td>\n      <td>3</td>\n      <td>2022-08-06</td>\n    </tr>\n    <tr>\n      <th>...</th>\n      <td>...</td>\n      <td>...</td>\n      <td>...</td>\n      <td>...</td>\n      <td>...</td>\n      <td>...</td>\n      <td>...</td>\n      <td>...</td>\n    </tr>\n    <tr>\n      <th>14633</th>\n      <td>Processo</td>\n      <td>2022-08-12</td>\n      <td>2022-10-04</td>\n      <td>TO</td>\n      <td>TO</td>\n      <td>27</td>\n      <td>2</td>\n      <td>2022-08-21</td>\n    </tr>\n    <tr>\n      <th>14634</th>\n      <td>Processo</td>\n      <td>2022-08-12</td>\n      <td>2022-10-04</td>\n      <td>TO</td>\n      <td>TO</td>\n      <td>27</td>\n      <td>2</td>\n      <td>2022-08-21</td>\n    </tr>\n    <tr>\n      <th>14635</th>\n      <td>Processo</td>\n      <td>2022-08-26</td>\n      <td>2022-09-21</td>\n      <td>TO</td>\n      <td>TO</td>\n      <td>27</td>\n      <td>2</td>\n      <td>2022-08-26</td>\n    </tr>\n    <tr>\n      <th>14636</th>\n      <td>Processo</td>\n      <td>2022-08-12</td>\n      <td>2022-09-20</td>\n      <td>TO</td>\n      <td>TO</td>\n      <td>27</td>\n      <td>2</td>\n      <td>2022-08-12</td>\n    </tr>\n    <tr>\n      <th>14637</th>\n      <td>Processo</td>\n      <td>2022-08-12</td>\n      <td>2022-09-20</td>\n      <td>TO</td>\n      <td>TO</td>\n      <td>27</td>\n      <td>2</td>\n      <td>2022-08-12</td>\n    </tr>\n  </tbody>\n</table>\n<p>14638 rows × 8 columns</p>\n</div>"
     },
     "execution_count": 59,
     "metadata": {},
     "output_type": "execute_result"
    }
   ],
   "source": [
    "recurso"
   ],
   "metadata": {
    "collapsed": false,
    "ExecuteTime": {
     "end_time": "2023-12-04T19:24:42.724295Z",
     "start_time": "2023-12-04T19:24:42.662156900Z"
    }
   },
   "id": "f5194e3f6477fe39"
  },
  {
   "cell_type": "code",
   "execution_count": 60,
   "outputs": [],
   "source": [
    "recurso.loc[:,'id_recurso']=recurso.index+1"
   ],
   "metadata": {
    "collapsed": false,
    "ExecuteTime": {
     "end_time": "2023-12-04T19:28:10.913767400Z",
     "start_time": "2023-12-04T19:28:10.860500400Z"
    }
   },
   "id": "c66e8eb6e54f73a5"
  },
  {
   "cell_type": "code",
   "execution_count": 61,
   "outputs": [
    {
     "data": {
      "text/plain": "      DS_IDENTIFICACAO_RECURSO DT_AUTUACAO   DT_BAIXA SG_UF_TRIBUNAL_ORIGEM  \\\n0                     Processo  2022-08-06 2022-10-10                    DF   \n1                     Processo  2022-08-06 2022-10-10                    DF   \n2                     Processo  2022-08-06 2022-10-10                    DF   \n3                     Processo  2022-08-06 2022-10-10                    DF   \n4                     Processo  2022-08-06 2022-10-10                    DF   \n...                        ...         ...        ...                   ...   \n14633                 Processo  2022-08-12 2022-10-04                    TO   \n14634                 Processo  2022-08-12 2022-10-04                    TO   \n14635                 Processo  2022-08-26 2022-09-21                    TO   \n14636                 Processo  2022-08-12 2022-09-20                    TO   \n14637                 Processo  2022-08-12 2022-09-20                    TO   \n\n      SG_UF_TRIBUNAL  NR_INSTANCIA_ORIGEM  NR_INSTANCIA DT_DISTRIBUICAO  \\\n0                 DF                    0             3      2022-08-06   \n1                 DF                    0             3      2022-08-06   \n2                 DF                    0             3      2022-08-06   \n3                 DF                    0             3      2022-08-06   \n4                 DF                    0             3      2022-08-06   \n...              ...                  ...           ...             ...   \n14633             TO                   27             2      2022-08-21   \n14634             TO                   27             2      2022-08-21   \n14635             TO                   27             2      2022-08-26   \n14636             TO                   27             2      2022-08-12   \n14637             TO                   27             2      2022-08-12   \n\n       id_recurso  \n0               1  \n1               2  \n2               3  \n3               4  \n4               5  \n...           ...  \n14633       14634  \n14634       14635  \n14635       14636  \n14636       14637  \n14637       14638  \n\n[14638 rows x 9 columns]",
      "text/html": "<div>\n<style scoped>\n    .dataframe tbody tr th:only-of-type {\n        vertical-align: middle;\n    }\n\n    .dataframe tbody tr th {\n        vertical-align: top;\n    }\n\n    .dataframe thead th {\n        text-align: right;\n    }\n</style>\n<table border=\"1\" class=\"dataframe\">\n  <thead>\n    <tr style=\"text-align: right;\">\n      <th></th>\n      <th>DS_IDENTIFICACAO_RECURSO</th>\n      <th>DT_AUTUACAO</th>\n      <th>DT_BAIXA</th>\n      <th>SG_UF_TRIBUNAL_ORIGEM</th>\n      <th>SG_UF_TRIBUNAL</th>\n      <th>NR_INSTANCIA_ORIGEM</th>\n      <th>NR_INSTANCIA</th>\n      <th>DT_DISTRIBUICAO</th>\n      <th>id_recurso</th>\n    </tr>\n  </thead>\n  <tbody>\n    <tr>\n      <th>0</th>\n      <td>Processo</td>\n      <td>2022-08-06</td>\n      <td>2022-10-10</td>\n      <td>DF</td>\n      <td>DF</td>\n      <td>0</td>\n      <td>3</td>\n      <td>2022-08-06</td>\n      <td>1</td>\n    </tr>\n    <tr>\n      <th>1</th>\n      <td>Processo</td>\n      <td>2022-08-06</td>\n      <td>2022-10-10</td>\n      <td>DF</td>\n      <td>DF</td>\n      <td>0</td>\n      <td>3</td>\n      <td>2022-08-06</td>\n      <td>2</td>\n    </tr>\n    <tr>\n      <th>2</th>\n      <td>Processo</td>\n      <td>2022-08-06</td>\n      <td>2022-10-10</td>\n      <td>DF</td>\n      <td>DF</td>\n      <td>0</td>\n      <td>3</td>\n      <td>2022-08-06</td>\n      <td>3</td>\n    </tr>\n    <tr>\n      <th>3</th>\n      <td>Processo</td>\n      <td>2022-08-06</td>\n      <td>2022-10-10</td>\n      <td>DF</td>\n      <td>DF</td>\n      <td>0</td>\n      <td>3</td>\n      <td>2022-08-06</td>\n      <td>4</td>\n    </tr>\n    <tr>\n      <th>4</th>\n      <td>Processo</td>\n      <td>2022-08-06</td>\n      <td>2022-10-10</td>\n      <td>DF</td>\n      <td>DF</td>\n      <td>0</td>\n      <td>3</td>\n      <td>2022-08-06</td>\n      <td>5</td>\n    </tr>\n    <tr>\n      <th>...</th>\n      <td>...</td>\n      <td>...</td>\n      <td>...</td>\n      <td>...</td>\n      <td>...</td>\n      <td>...</td>\n      <td>...</td>\n      <td>...</td>\n      <td>...</td>\n    </tr>\n    <tr>\n      <th>14633</th>\n      <td>Processo</td>\n      <td>2022-08-12</td>\n      <td>2022-10-04</td>\n      <td>TO</td>\n      <td>TO</td>\n      <td>27</td>\n      <td>2</td>\n      <td>2022-08-21</td>\n      <td>14634</td>\n    </tr>\n    <tr>\n      <th>14634</th>\n      <td>Processo</td>\n      <td>2022-08-12</td>\n      <td>2022-10-04</td>\n      <td>TO</td>\n      <td>TO</td>\n      <td>27</td>\n      <td>2</td>\n      <td>2022-08-21</td>\n      <td>14635</td>\n    </tr>\n    <tr>\n      <th>14635</th>\n      <td>Processo</td>\n      <td>2022-08-26</td>\n      <td>2022-09-21</td>\n      <td>TO</td>\n      <td>TO</td>\n      <td>27</td>\n      <td>2</td>\n      <td>2022-08-26</td>\n      <td>14636</td>\n    </tr>\n    <tr>\n      <th>14636</th>\n      <td>Processo</td>\n      <td>2022-08-12</td>\n      <td>2022-09-20</td>\n      <td>TO</td>\n      <td>TO</td>\n      <td>27</td>\n      <td>2</td>\n      <td>2022-08-12</td>\n      <td>14637</td>\n    </tr>\n    <tr>\n      <th>14637</th>\n      <td>Processo</td>\n      <td>2022-08-12</td>\n      <td>2022-09-20</td>\n      <td>TO</td>\n      <td>TO</td>\n      <td>27</td>\n      <td>2</td>\n      <td>2022-08-12</td>\n      <td>14638</td>\n    </tr>\n  </tbody>\n</table>\n<p>14638 rows × 9 columns</p>\n</div>"
     },
     "execution_count": 61,
     "metadata": {},
     "output_type": "execute_result"
    }
   ],
   "source": [
    "recurso"
   ],
   "metadata": {
    "collapsed": false,
    "ExecuteTime": {
     "end_time": "2023-12-04T19:28:15.735375600Z",
     "start_time": "2023-12-04T19:28:15.650214700Z"
    }
   },
   "id": "eba836580f07b37c"
  },
  {
   "cell_type": "code",
   "execution_count": 62,
   "outputs": [],
   "source": [
    "recurso.to_csv('recurso.csv',index = False)"
   ],
   "metadata": {
    "collapsed": false,
    "ExecuteTime": {
     "end_time": "2023-12-04T19:29:44.759033700Z",
     "start_time": "2023-12-04T19:29:44.574221300Z"
    }
   },
   "id": "817745ba4bfe0e20"
  },
  {
   "cell_type": "code",
   "execution_count": 63,
   "outputs": [],
   "source": [
    "assunto = pd.read_csv('processos_eleitorais_assuntos_2022.csv',encoding='ISO-8859-1',sep=';'  )"
   ],
   "metadata": {
    "collapsed": false,
    "ExecuteTime": {
     "end_time": "2023-12-04T19:41:02.749670600Z",
     "start_time": "2023-12-04T19:41:02.536698100Z"
    }
   },
   "id": "882b57c14cf84704"
  },
  {
   "cell_type": "code",
   "execution_count": 64,
   "outputs": [
    {
     "data": {
      "text/plain": "DT_GERACAO                object\nHH_GERACAO                object\nANO_ELEICAO                int64\nNR_PROCESSO               object\nSG_UF_TRIBUNAL_ORIGEM     object\nCD_ASSUNTO               float64\nDS_ASSUNTO                object\ndtype: object"
     },
     "execution_count": 64,
     "metadata": {},
     "output_type": "execute_result"
    }
   ],
   "source": [
    "assunto.dtypes"
   ],
   "metadata": {
    "collapsed": false,
    "ExecuteTime": {
     "end_time": "2023-12-04T19:41:09.967326200Z",
     "start_time": "2023-12-04T19:41:09.811226500Z"
    }
   },
   "id": "1c1b752929df2064"
  },
  {
   "cell_type": "code",
   "execution_count": 65,
   "outputs": [],
   "source": [
    "assunto['DT_GERACAO'] = pd.to_datetime(assunto['DT_GERACAO'], format='%d/%m/%Y', errors='coerce')"
   ],
   "metadata": {
    "collapsed": false,
    "ExecuteTime": {
     "end_time": "2023-12-04T19:41:39.544633300Z",
     "start_time": "2023-12-04T19:41:39.484774400Z"
    }
   },
   "id": "251cbbc135cd7132"
  },
  {
   "cell_type": "code",
   "execution_count": 66,
   "outputs": [],
   "source": [
    "assunto = assunto[['CD_ASSUNTO','DS_ASSUNTO']]"
   ],
   "metadata": {
    "collapsed": false,
    "ExecuteTime": {
     "end_time": "2023-12-04T19:42:10.529297700Z",
     "start_time": "2023-12-04T19:42:10.409134500Z"
    }
   },
   "id": "f7e852a1c7173234"
  },
  {
   "cell_type": "code",
   "execution_count": 67,
   "outputs": [
    {
     "data": {
      "text/plain": "       CD_ASSUNTO                                         DS_ASSUNTO\n0         12362.0  Autorização de Divulgação de Publicidade Insti...\n1         11668.0  Propaganda Política - Propaganda Eleitoral - F...\n2         11593.0                                Direito de Resposta\n3         12638.0  Propaganda Política - Propaganda Eleitoral - I...\n4         12044.0   Registro de Candidatura - DRAP Partido/Coligação\n...           ...                                                ...\n78750     11631.0                           Cargo - Deputado Federal\n78751     11630.0                          Cargo - Deputado Estadual\n78752     11632.0                                 Cargo - Governador\n78753     11618.0          Registro de Candidatura - RRC - Candidato\n78754     11618.0          Registro de Candidatura - RRC - Candidato\n\n[78755 rows x 2 columns]",
      "text/html": "<div>\n<style scoped>\n    .dataframe tbody tr th:only-of-type {\n        vertical-align: middle;\n    }\n\n    .dataframe tbody tr th {\n        vertical-align: top;\n    }\n\n    .dataframe thead th {\n        text-align: right;\n    }\n</style>\n<table border=\"1\" class=\"dataframe\">\n  <thead>\n    <tr style=\"text-align: right;\">\n      <th></th>\n      <th>CD_ASSUNTO</th>\n      <th>DS_ASSUNTO</th>\n    </tr>\n  </thead>\n  <tbody>\n    <tr>\n      <th>0</th>\n      <td>12362.0</td>\n      <td>Autorização de Divulgação de Publicidade Insti...</td>\n    </tr>\n    <tr>\n      <th>1</th>\n      <td>11668.0</td>\n      <td>Propaganda Política - Propaganda Eleitoral - F...</td>\n    </tr>\n    <tr>\n      <th>2</th>\n      <td>11593.0</td>\n      <td>Direito de Resposta</td>\n    </tr>\n    <tr>\n      <th>3</th>\n      <td>12638.0</td>\n      <td>Propaganda Política - Propaganda Eleitoral - I...</td>\n    </tr>\n    <tr>\n      <th>4</th>\n      <td>12044.0</td>\n      <td>Registro de Candidatura - DRAP Partido/Coligação</td>\n    </tr>\n    <tr>\n      <th>...</th>\n      <td>...</td>\n      <td>...</td>\n    </tr>\n    <tr>\n      <th>78750</th>\n      <td>11631.0</td>\n      <td>Cargo - Deputado Federal</td>\n    </tr>\n    <tr>\n      <th>78751</th>\n      <td>11630.0</td>\n      <td>Cargo - Deputado Estadual</td>\n    </tr>\n    <tr>\n      <th>78752</th>\n      <td>11632.0</td>\n      <td>Cargo - Governador</td>\n    </tr>\n    <tr>\n      <th>78753</th>\n      <td>11618.0</td>\n      <td>Registro de Candidatura - RRC - Candidato</td>\n    </tr>\n    <tr>\n      <th>78754</th>\n      <td>11618.0</td>\n      <td>Registro de Candidatura - RRC - Candidato</td>\n    </tr>\n  </tbody>\n</table>\n<p>78755 rows × 2 columns</p>\n</div>"
     },
     "execution_count": 67,
     "metadata": {},
     "output_type": "execute_result"
    }
   ],
   "source": [
    "assunto"
   ],
   "metadata": {
    "collapsed": false,
    "ExecuteTime": {
     "end_time": "2023-12-04T19:42:14.104517500Z",
     "start_time": "2023-12-04T19:42:13.882199Z"
    }
   },
   "id": "ec50960ea702396a"
  },
  {
   "cell_type": "code",
   "execution_count": 68,
   "outputs": [
    {
     "data": {
      "text/plain": "       CD_ASSUNTO                                         DS_ASSUNTO\n0         12362.0  Autorização de Divulgação de Publicidade Insti...\n1         11668.0  Propaganda Política - Propaganda Eleitoral - F...\n2         11593.0                                Direito de Resposta\n3         12638.0  Propaganda Política - Propaganda Eleitoral - I...\n4         12044.0   Registro de Candidatura - DRAP Partido/Coligação\n...           ...                                                ...\n67317     10784.0                               Propaganda eleitoral\n67920     10768.0                                 Campanha Eleitoral\n68007     10607.0                          Quebra do Sigilo Bancário\n68008     15017.0        Alteração da Estrutura Orgânica de Tribunal\n71349     11659.0  Propaganda Política - Propaganda Eleitoral - B...\n\n[336 rows x 2 columns]",
      "text/html": "<div>\n<style scoped>\n    .dataframe tbody tr th:only-of-type {\n        vertical-align: middle;\n    }\n\n    .dataframe tbody tr th {\n        vertical-align: top;\n    }\n\n    .dataframe thead th {\n        text-align: right;\n    }\n</style>\n<table border=\"1\" class=\"dataframe\">\n  <thead>\n    <tr style=\"text-align: right;\">\n      <th></th>\n      <th>CD_ASSUNTO</th>\n      <th>DS_ASSUNTO</th>\n    </tr>\n  </thead>\n  <tbody>\n    <tr>\n      <th>0</th>\n      <td>12362.0</td>\n      <td>Autorização de Divulgação de Publicidade Insti...</td>\n    </tr>\n    <tr>\n      <th>1</th>\n      <td>11668.0</td>\n      <td>Propaganda Política - Propaganda Eleitoral - F...</td>\n    </tr>\n    <tr>\n      <th>2</th>\n      <td>11593.0</td>\n      <td>Direito de Resposta</td>\n    </tr>\n    <tr>\n      <th>3</th>\n      <td>12638.0</td>\n      <td>Propaganda Política - Propaganda Eleitoral - I...</td>\n    </tr>\n    <tr>\n      <th>4</th>\n      <td>12044.0</td>\n      <td>Registro de Candidatura - DRAP Partido/Coligação</td>\n    </tr>\n    <tr>\n      <th>...</th>\n      <td>...</td>\n      <td>...</td>\n    </tr>\n    <tr>\n      <th>67317</th>\n      <td>10784.0</td>\n      <td>Propaganda eleitoral</td>\n    </tr>\n    <tr>\n      <th>67920</th>\n      <td>10768.0</td>\n      <td>Campanha Eleitoral</td>\n    </tr>\n    <tr>\n      <th>68007</th>\n      <td>10607.0</td>\n      <td>Quebra do Sigilo Bancário</td>\n    </tr>\n    <tr>\n      <th>68008</th>\n      <td>15017.0</td>\n      <td>Alteração da Estrutura Orgânica de Tribunal</td>\n    </tr>\n    <tr>\n      <th>71349</th>\n      <td>11659.0</td>\n      <td>Propaganda Política - Propaganda Eleitoral - B...</td>\n    </tr>\n  </tbody>\n</table>\n<p>336 rows × 2 columns</p>\n</div>"
     },
     "execution_count": 68,
     "metadata": {},
     "output_type": "execute_result"
    }
   ],
   "source": [
    "assunto.drop_duplicates('CD_ASSUNTO')"
   ],
   "metadata": {
    "collapsed": false,
    "ExecuteTime": {
     "end_time": "2023-12-04T19:42:32.491665100Z",
     "start_time": "2023-12-04T19:42:32.398259200Z"
    }
   },
   "id": "8fb7e719b9d5bc13"
  },
  {
   "cell_type": "markdown",
   "source": [],
   "metadata": {
    "collapsed": false
   },
   "id": "f7e89c92f8167ef8"
  },
  {
   "cell_type": "code",
   "execution_count": 71,
   "outputs": [
    {
     "data": {
      "text/plain": "       CD_ASSUNTO                                         DS_ASSUNTO\n0         12362.0  Autorização de Divulgação de Publicidade Insti...\n1         11668.0  Propaganda Política - Propaganda Eleitoral - F...\n2         11593.0                                Direito de Resposta\n3         12638.0  Propaganda Política - Propaganda Eleitoral - I...\n4         12044.0   Registro de Candidatura - DRAP Partido/Coligação\n...           ...                                                ...\n67317     10784.0                               Propaganda eleitoral\n67920     10768.0                                 Campanha Eleitoral\n68007     10607.0                          Quebra do Sigilo Bancário\n68008     15017.0        Alteração da Estrutura Orgânica de Tribunal\n71349     11659.0  Propaganda Política - Propaganda Eleitoral - B...\n\n[336 rows x 2 columns]",
      "text/html": "<div>\n<style scoped>\n    .dataframe tbody tr th:only-of-type {\n        vertical-align: middle;\n    }\n\n    .dataframe tbody tr th {\n        vertical-align: top;\n    }\n\n    .dataframe thead th {\n        text-align: right;\n    }\n</style>\n<table border=\"1\" class=\"dataframe\">\n  <thead>\n    <tr style=\"text-align: right;\">\n      <th></th>\n      <th>CD_ASSUNTO</th>\n      <th>DS_ASSUNTO</th>\n    </tr>\n  </thead>\n  <tbody>\n    <tr>\n      <th>0</th>\n      <td>12362.0</td>\n      <td>Autorização de Divulgação de Publicidade Insti...</td>\n    </tr>\n    <tr>\n      <th>1</th>\n      <td>11668.0</td>\n      <td>Propaganda Política - Propaganda Eleitoral - F...</td>\n    </tr>\n    <tr>\n      <th>2</th>\n      <td>11593.0</td>\n      <td>Direito de Resposta</td>\n    </tr>\n    <tr>\n      <th>3</th>\n      <td>12638.0</td>\n      <td>Propaganda Política - Propaganda Eleitoral - I...</td>\n    </tr>\n    <tr>\n      <th>4</th>\n      <td>12044.0</td>\n      <td>Registro de Candidatura - DRAP Partido/Coligação</td>\n    </tr>\n    <tr>\n      <th>...</th>\n      <td>...</td>\n      <td>...</td>\n    </tr>\n    <tr>\n      <th>67317</th>\n      <td>10784.0</td>\n      <td>Propaganda eleitoral</td>\n    </tr>\n    <tr>\n      <th>67920</th>\n      <td>10768.0</td>\n      <td>Campanha Eleitoral</td>\n    </tr>\n    <tr>\n      <th>68007</th>\n      <td>10607.0</td>\n      <td>Quebra do Sigilo Bancário</td>\n    </tr>\n    <tr>\n      <th>68008</th>\n      <td>15017.0</td>\n      <td>Alteração da Estrutura Orgânica de Tribunal</td>\n    </tr>\n    <tr>\n      <th>71349</th>\n      <td>11659.0</td>\n      <td>Propaganda Política - Propaganda Eleitoral - B...</td>\n    </tr>\n  </tbody>\n</table>\n<p>336 rows × 2 columns</p>\n</div>"
     },
     "execution_count": 71,
     "metadata": {},
     "output_type": "execute_result"
    }
   ],
   "source": [
    "assuntopronto=assunto.drop_duplicates('CD_ASSUNTO')\n"
   ],
   "metadata": {
    "collapsed": false,
    "ExecuteTime": {
     "end_time": "2023-12-04T19:44:16.978088600Z",
     "start_time": "2023-12-04T19:44:16.833794300Z"
    }
   },
   "id": "59b517912c9a2450"
  },
  {
   "cell_type": "code",
   "execution_count": 72,
   "outputs": [
    {
     "data": {
      "text/plain": "       CD_ASSUNTO                                         DS_ASSUNTO\n0         12362.0  Autorização de Divulgação de Publicidade Insti...\n1         11668.0  Propaganda Política - Propaganda Eleitoral - F...\n2         11593.0                                Direito de Resposta\n3         12638.0  Propaganda Política - Propaganda Eleitoral - I...\n4         12044.0   Registro de Candidatura - DRAP Partido/Coligação\n...           ...                                                ...\n67317     10784.0                               Propaganda eleitoral\n67920     10768.0                                 Campanha Eleitoral\n68007     10607.0                          Quebra do Sigilo Bancário\n68008     15017.0        Alteração da Estrutura Orgânica de Tribunal\n71349     11659.0  Propaganda Política - Propaganda Eleitoral - B...\n\n[336 rows x 2 columns]",
      "text/html": "<div>\n<style scoped>\n    .dataframe tbody tr th:only-of-type {\n        vertical-align: middle;\n    }\n\n    .dataframe tbody tr th {\n        vertical-align: top;\n    }\n\n    .dataframe thead th {\n        text-align: right;\n    }\n</style>\n<table border=\"1\" class=\"dataframe\">\n  <thead>\n    <tr style=\"text-align: right;\">\n      <th></th>\n      <th>CD_ASSUNTO</th>\n      <th>DS_ASSUNTO</th>\n    </tr>\n  </thead>\n  <tbody>\n    <tr>\n      <th>0</th>\n      <td>12362.0</td>\n      <td>Autorização de Divulgação de Publicidade Insti...</td>\n    </tr>\n    <tr>\n      <th>1</th>\n      <td>11668.0</td>\n      <td>Propaganda Política - Propaganda Eleitoral - F...</td>\n    </tr>\n    <tr>\n      <th>2</th>\n      <td>11593.0</td>\n      <td>Direito de Resposta</td>\n    </tr>\n    <tr>\n      <th>3</th>\n      <td>12638.0</td>\n      <td>Propaganda Política - Propaganda Eleitoral - I...</td>\n    </tr>\n    <tr>\n      <th>4</th>\n      <td>12044.0</td>\n      <td>Registro de Candidatura - DRAP Partido/Coligação</td>\n    </tr>\n    <tr>\n      <th>...</th>\n      <td>...</td>\n      <td>...</td>\n    </tr>\n    <tr>\n      <th>67317</th>\n      <td>10784.0</td>\n      <td>Propaganda eleitoral</td>\n    </tr>\n    <tr>\n      <th>67920</th>\n      <td>10768.0</td>\n      <td>Campanha Eleitoral</td>\n    </tr>\n    <tr>\n      <th>68007</th>\n      <td>10607.0</td>\n      <td>Quebra do Sigilo Bancário</td>\n    </tr>\n    <tr>\n      <th>68008</th>\n      <td>15017.0</td>\n      <td>Alteração da Estrutura Orgânica de Tribunal</td>\n    </tr>\n    <tr>\n      <th>71349</th>\n      <td>11659.0</td>\n      <td>Propaganda Política - Propaganda Eleitoral - B...</td>\n    </tr>\n  </tbody>\n</table>\n<p>336 rows × 2 columns</p>\n</div>"
     },
     "execution_count": 72,
     "metadata": {},
     "output_type": "execute_result"
    }
   ],
   "source": [
    "assuntopronto"
   ],
   "metadata": {
    "collapsed": false,
    "ExecuteTime": {
     "end_time": "2023-12-04T19:44:54.560836400Z",
     "start_time": "2023-12-04T19:44:54.294347900Z"
    }
   },
   "id": "fdb651a4cbb2ef32"
  },
  {
   "cell_type": "code",
   "execution_count": 73,
   "outputs": [
    {
     "data": {
      "text/plain": "       CD_ASSUNTO                                         DS_ASSUNTO\n0         12362.0  Autorização de Divulgação de Publicidade Insti...\n1         11668.0  Propaganda Política - Propaganda Eleitoral - F...\n2         11593.0                                Direito de Resposta\n3         12638.0  Propaganda Política - Propaganda Eleitoral - I...\n4         12044.0   Registro de Candidatura - DRAP Partido/Coligação\n...           ...                                                ...\n67317     10784.0                               Propaganda eleitoral\n67920     10768.0                                 Campanha Eleitoral\n68007     10607.0                          Quebra do Sigilo Bancário\n68008     15017.0        Alteração da Estrutura Orgânica de Tribunal\n71349     11659.0  Propaganda Política - Propaganda Eleitoral - B...\n\n[332 rows x 2 columns]",
      "text/html": "<div>\n<style scoped>\n    .dataframe tbody tr th:only-of-type {\n        vertical-align: middle;\n    }\n\n    .dataframe tbody tr th {\n        vertical-align: top;\n    }\n\n    .dataframe thead th {\n        text-align: right;\n    }\n</style>\n<table border=\"1\" class=\"dataframe\">\n  <thead>\n    <tr style=\"text-align: right;\">\n      <th></th>\n      <th>CD_ASSUNTO</th>\n      <th>DS_ASSUNTO</th>\n    </tr>\n  </thead>\n  <tbody>\n    <tr>\n      <th>0</th>\n      <td>12362.0</td>\n      <td>Autorização de Divulgação de Publicidade Insti...</td>\n    </tr>\n    <tr>\n      <th>1</th>\n      <td>11668.0</td>\n      <td>Propaganda Política - Propaganda Eleitoral - F...</td>\n    </tr>\n    <tr>\n      <th>2</th>\n      <td>11593.0</td>\n      <td>Direito de Resposta</td>\n    </tr>\n    <tr>\n      <th>3</th>\n      <td>12638.0</td>\n      <td>Propaganda Política - Propaganda Eleitoral - I...</td>\n    </tr>\n    <tr>\n      <th>4</th>\n      <td>12044.0</td>\n      <td>Registro de Candidatura - DRAP Partido/Coligação</td>\n    </tr>\n    <tr>\n      <th>...</th>\n      <td>...</td>\n      <td>...</td>\n    </tr>\n    <tr>\n      <th>67317</th>\n      <td>10784.0</td>\n      <td>Propaganda eleitoral</td>\n    </tr>\n    <tr>\n      <th>67920</th>\n      <td>10768.0</td>\n      <td>Campanha Eleitoral</td>\n    </tr>\n    <tr>\n      <th>68007</th>\n      <td>10607.0</td>\n      <td>Quebra do Sigilo Bancário</td>\n    </tr>\n    <tr>\n      <th>68008</th>\n      <td>15017.0</td>\n      <td>Alteração da Estrutura Orgânica de Tribunal</td>\n    </tr>\n    <tr>\n      <th>71349</th>\n      <td>11659.0</td>\n      <td>Propaganda Política - Propaganda Eleitoral - B...</td>\n    </tr>\n  </tbody>\n</table>\n<p>332 rows × 2 columns</p>\n</div>"
     },
     "execution_count": 73,
     "metadata": {},
     "output_type": "execute_result"
    }
   ],
   "source": [
    "assuntopronto.drop_duplicates('DS_ASSUNTO')"
   ],
   "metadata": {
    "collapsed": false,
    "ExecuteTime": {
     "end_time": "2023-12-04T19:45:48.510282900Z",
     "start_time": "2023-12-04T19:45:48.405079600Z"
    }
   },
   "id": "6dcac0dac3e5fa85"
  },
  {
   "cell_type": "code",
   "execution_count": 74,
   "outputs": [
    {
     "data": {
      "text/plain": "       CD_ASSUNTO                                         DS_ASSUNTO\n0         12362.0  Autorização de Divulgação de Publicidade Insti...\n1         11668.0  Propaganda Política - Propaganda Eleitoral - F...\n2         11593.0                                Direito de Resposta\n3         12638.0  Propaganda Política - Propaganda Eleitoral - I...\n4         12044.0   Registro de Candidatura - DRAP Partido/Coligação\n...           ...                                                ...\n67317     10784.0                               Propaganda eleitoral\n67920     10768.0                                 Campanha Eleitoral\n68007     10607.0                          Quebra do Sigilo Bancário\n68008     15017.0        Alteração da Estrutura Orgânica de Tribunal\n71349     11659.0  Propaganda Política - Propaganda Eleitoral - B...\n\n[336 rows x 2 columns]",
      "text/html": "<div>\n<style scoped>\n    .dataframe tbody tr th:only-of-type {\n        vertical-align: middle;\n    }\n\n    .dataframe tbody tr th {\n        vertical-align: top;\n    }\n\n    .dataframe thead th {\n        text-align: right;\n    }\n</style>\n<table border=\"1\" class=\"dataframe\">\n  <thead>\n    <tr style=\"text-align: right;\">\n      <th></th>\n      <th>CD_ASSUNTO</th>\n      <th>DS_ASSUNTO</th>\n    </tr>\n  </thead>\n  <tbody>\n    <tr>\n      <th>0</th>\n      <td>12362.0</td>\n      <td>Autorização de Divulgação de Publicidade Insti...</td>\n    </tr>\n    <tr>\n      <th>1</th>\n      <td>11668.0</td>\n      <td>Propaganda Política - Propaganda Eleitoral - F...</td>\n    </tr>\n    <tr>\n      <th>2</th>\n      <td>11593.0</td>\n      <td>Direito de Resposta</td>\n    </tr>\n    <tr>\n      <th>3</th>\n      <td>12638.0</td>\n      <td>Propaganda Política - Propaganda Eleitoral - I...</td>\n    </tr>\n    <tr>\n      <th>4</th>\n      <td>12044.0</td>\n      <td>Registro de Candidatura - DRAP Partido/Coligação</td>\n    </tr>\n    <tr>\n      <th>...</th>\n      <td>...</td>\n      <td>...</td>\n    </tr>\n    <tr>\n      <th>67317</th>\n      <td>10784.0</td>\n      <td>Propaganda eleitoral</td>\n    </tr>\n    <tr>\n      <th>67920</th>\n      <td>10768.0</td>\n      <td>Campanha Eleitoral</td>\n    </tr>\n    <tr>\n      <th>68007</th>\n      <td>10607.0</td>\n      <td>Quebra do Sigilo Bancário</td>\n    </tr>\n    <tr>\n      <th>68008</th>\n      <td>15017.0</td>\n      <td>Alteração da Estrutura Orgânica de Tribunal</td>\n    </tr>\n    <tr>\n      <th>71349</th>\n      <td>11659.0</td>\n      <td>Propaganda Política - Propaganda Eleitoral - B...</td>\n    </tr>\n  </tbody>\n</table>\n<p>336 rows × 2 columns</p>\n</div>"
     },
     "execution_count": 74,
     "metadata": {},
     "output_type": "execute_result"
    }
   ],
   "source": [
    "assuntopronto"
   ],
   "metadata": {
    "collapsed": false,
    "ExecuteTime": {
     "end_time": "2023-12-04T19:46:38.284175Z",
     "start_time": "2023-12-04T19:46:38.073297400Z"
    }
   },
   "id": "f6b72561063cfe8e"
  },
  {
   "cell_type": "code",
   "execution_count": 75,
   "outputs": [],
   "source": [
    "assuntopronto.to_csv('assuntolimpo.csv',index = False)"
   ],
   "metadata": {
    "collapsed": false,
    "ExecuteTime": {
     "end_time": "2023-12-04T19:47:07.259124400Z",
     "start_time": "2023-12-04T19:47:07.181232400Z"
    }
   },
   "id": "8bb586273daa25bd"
  },
  {
   "cell_type": "code",
   "execution_count": null,
   "outputs": [],
   "source": [],
   "metadata": {
    "collapsed": false
   },
   "id": "715b4864ddc87a3a"
  }
 ],
 "metadata": {
  "kernelspec": {
   "display_name": "Python 3",
   "language": "python",
   "name": "python3"
  },
  "language_info": {
   "codemirror_mode": {
    "name": "ipython",
    "version": 2
   },
   "file_extension": ".py",
   "mimetype": "text/x-python",
   "name": "python",
   "nbconvert_exporter": "python",
   "pygments_lexer": "ipython2",
   "version": "2.7.6"
  }
 },
 "nbformat": 4,
 "nbformat_minor": 5
}
